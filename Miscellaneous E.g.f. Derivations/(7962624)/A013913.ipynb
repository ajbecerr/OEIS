{
 "cells": [
  {
   "cell_type": "markdown",
   "metadata": {},
   "source": [
    "$a(n) = 24^{5n+4}$."
   ]
  },
  {
   "cell_type": "markdown",
   "metadata": {},
   "source": [
    "## Finding an exponential generating function:\n",
    "\n",
    "Define:\n",
    "\n",
    "$$EG(x)=\\sum_{n=0}^{\\infty}a(n)\\frac{x^{n}}{n!}$$"
   ]
  },
  {
   "cell_type": "markdown",
   "metadata": {},
   "source": [
    "For all $n\\geq 0$, since:\n",
    "\n",
    "$$a(n) = 24^{5n+4}$$"
   ]
  },
  {
   "cell_type": "markdown",
   "metadata": {},
   "source": [
    "It follows that:\n",
    "\n",
    "$$EG(x) = \\sum_{n=0}^{\\infty}24^{5n+4}\\frac{x^{n}}{n!}$$"
   ]
  },
  {
   "cell_type": "markdown",
   "metadata": {},
   "source": [
    "Or, equivalently:\n",
    "\n",
    "$$EG(x) = 331776\\sum_{n=0}^{\\infty}7962624^{n}\\frac{x^{n}}{n!}$$"
   ]
  },
  {
   "cell_type": "markdown",
   "metadata": {},
   "source": [
    "Therefore:\n",
    "\n",
    "$$EG(x) = 331776e^{7962624x}$$"
   ]
  },
  {
   "cell_type": "code",
   "execution_count": null,
   "metadata": {},
   "outputs": [],
   "source": []
  }
 ],
 "metadata": {
  "kernelspec": {
   "display_name": "Python 3",
   "language": "python",
   "name": "python3"
  },
  "language_info": {
   "codemirror_mode": {
    "name": "ipython",
    "version": 3
   },
   "file_extension": ".py",
   "mimetype": "text/x-python",
   "name": "python",
   "nbconvert_exporter": "python",
   "pygments_lexer": "ipython3",
   "version": "3.7.6"
  }
 },
 "nbformat": 4,
 "nbformat_minor": 4
}
