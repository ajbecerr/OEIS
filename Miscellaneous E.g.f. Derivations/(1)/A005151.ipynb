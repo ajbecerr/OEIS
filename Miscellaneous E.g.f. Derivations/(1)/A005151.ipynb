{
 "cells": [
  {
   "cell_type": "markdown",
   "metadata": {},
   "source": [
    "Summarize the previous term (digits in increasing order), starting with $a(1) = 1$."
   ]
  },
  {
   "cell_type": "markdown",
   "metadata": {},
   "source": [
    "## Finding an exponential generating function:\n",
    "\n",
    "Define:\n",
    "\n",
    "$$EG(x)=\\sum_{n=0}^{\\infty}a(n)\\frac{x^{n}}{n!}$$"
   ]
  },
  {
   "cell_type": "markdown",
   "metadata": {},
   "source": [
    "Since:\n",
    "\n",
    "$$a(1)=1$$"
   ]
  },
  {
   "cell_type": "markdown",
   "metadata": {},
   "source": [
    "$$a(2)=11$$"
   ]
  },
  {
   "cell_type": "markdown",
   "metadata": {},
   "source": [
    "$$a(3)=21$$"
   ]
  },
  {
   "cell_type": "markdown",
   "metadata": {},
   "source": [
    "$$a(4)=1112$$"
   ]
  },
  {
   "cell_type": "markdown",
   "metadata": {},
   "source": [
    "$$a(5)=3112$$"
   ]
  },
  {
   "cell_type": "markdown",
   "metadata": {},
   "source": [
    "$$a(6)=211213$$"
   ]
  },
  {
   "cell_type": "markdown",
   "metadata": {},
   "source": [
    "$$a(7)=312213$$"
   ]
  },
  {
   "cell_type": "markdown",
   "metadata": {},
   "source": [
    "$$a(8)=212223$$"
   ]
  },
  {
   "cell_type": "markdown",
   "metadata": {},
   "source": [
    "$$a(9)=114213$$"
   ]
  },
  {
   "cell_type": "markdown",
   "metadata": {},
   "source": [
    "$$a(10)=31121314$$"
   ]
  },
  {
   "cell_type": "markdown",
   "metadata": {},
   "source": [
    "$$a(11)=41122314$$"
   ]
  },
  {
   "cell_type": "markdown",
   "metadata": {},
   "source": [
    "$$a(12)=31221324$$"
   ]
  },
  {
   "cell_type": "markdown",
   "metadata": {},
   "source": [
    "And, for all $n\\geq 13$:\n",
    "\n",
    "$$a(n)=21322314$$"
   ]
  },
  {
   "cell_type": "markdown",
   "metadata": {},
   "source": [
    "It follows that:\n",
    "\n",
    "$$\\scriptsize EG(x)=x+11x^{2}+21x^{3}+1112x^{4}+3112x^{5}+211213x^{6}+312213x^{7}+212223x^{8}+114213x^{9}+31121314x^{10}+41122314x^{11}+31221324x^{12}+\\sum_{n=13}^{\\infty}21322314\\frac{x^{n}}{n!}$$"
   ]
  },
  {
   "cell_type": "markdown",
   "metadata": {},
   "source": [
    "Or, equivalently:\n",
    "\n",
    "$$\\scriptsize EG(x)=x+11x^{2}+21x^{3}+1112x^{4}+3112x^{5}+211213x^{6}+312213x^{7}+212223x^{8}+114213x^{9}+31121314x^{10}+41122314x^{11}+31221324x^{12}+21322314\\sum_{n=13}^{\\infty}\\frac{x^{n}}{n!}$$"
   ]
  },
  {
   "cell_type": "markdown",
   "metadata": {},
   "source": [
    "Ergo:\n",
    "\n",
    "$$\\small EG(x)=x+11x^{2}+21x^{3}+1112x^{4}+3112x^{5}+211213x^{6}+312213x^{7}+212223x^{8}+114213x^{9}+31121314x^{10}+41122314x^{11}+31221324x^{12}$$"
   ]
  },
  {
   "cell_type": "markdown",
   "metadata": {},
   "source": [
    "$$\\small +21322314\\left(e^{x}-\\frac{x^{12}}{479001600}-\\frac{x^{11}}{39916800}-\\frac{x^{10}}{3628800}-\\frac{x^{9}}{362880}-\\frac{x^{8}}{40320}-\\frac{x^{7}}{5040}-\\frac{x^{6}}{720}-\\frac{x^{5}}{120}-\\frac{x^{4}}{24}-\\frac{x^{3}}{6}-\\frac{x^{2}}{2}-x-1\\right)$$"
   ]
  },
  {
   "cell_type": "markdown",
   "metadata": {},
   "source": [
    "Therefore:\n",
    "\n",
    "$$\\tiny EG(x)=-21322314-21322313x-10661146x^2-3553698x^3-\\frac{3549271x^4}{4}-\\frac{3491479x^5}{20}+\\frac{7263947x^6}{40}+\\frac{86235067x^7}{280}+\\frac{474194947x^8}{2240}+\\frac{2301349507x^9}{20160}+\\frac{6274055717827x^{10}}{201600}+\\frac{91192842341827x^{11}}{2217600}+\\frac{830836896044227x^{12}}{26611200}+21322314e^{x}$$"
   ]
  },
  {
   "cell_type": "code",
   "execution_count": null,
   "metadata": {},
   "outputs": [],
   "source": []
  }
 ],
 "metadata": {
  "kernelspec": {
   "display_name": "Python 3",
   "language": "python",
   "name": "python3"
  },
  "language_info": {
   "codemirror_mode": {
    "name": "ipython",
    "version": 3
   },
   "file_extension": ".py",
   "mimetype": "text/x-python",
   "name": "python",
   "nbconvert_exporter": "python",
   "pygments_lexer": "ipython3",
   "version": "3.7.6"
  }
 },
 "nbformat": 4,
 "nbformat_minor": 4
}
