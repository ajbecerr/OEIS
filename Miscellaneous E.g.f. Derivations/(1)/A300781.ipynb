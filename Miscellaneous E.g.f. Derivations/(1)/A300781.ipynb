{
 "cells": [
  {
   "cell_type": "markdown",
   "metadata": {},
   "source": [
    "Number of log-concave permutations of {$1$,...,$n$}."
   ]
  },
  {
   "cell_type": "markdown",
   "metadata": {},
   "source": [
    "## Finding an exponential generating function:\n",
    "\n",
    "Define:\n",
    "\n",
    "$$EG(x)=\\sum_{n=0}^{\\infty}a(n)\\frac{x^{n}}{n!}$$"
   ]
  },
  {
   "cell_type": "markdown",
   "metadata": {},
   "source": [
    "Since:\n",
    "\n",
    "$$a(0)=1$$"
   ]
  },
  {
   "cell_type": "markdown",
   "metadata": {},
   "source": [
    "$$a(1)=1$$"
   ]
  },
  {
   "cell_type": "markdown",
   "metadata": {},
   "source": [
    "$$a(2)=2$$"
   ]
  },
  {
   "cell_type": "markdown",
   "metadata": {},
   "source": [
    "$$a(3)=4$$"
   ]
  },
  {
   "cell_type": "markdown",
   "metadata": {},
   "source": [
    "$$a(4)=8$$"
   ]
  },
  {
   "cell_type": "markdown",
   "metadata": {},
   "source": [
    "$$a(5)=10$$"
   ]
  },
  {
   "cell_type": "markdown",
   "metadata": {},
   "source": [
    "$$a(6)=14$$"
   ]
  },
  {
   "cell_type": "markdown",
   "metadata": {},
   "source": [
    "$$a(7)=18$$"
   ]
  },
  {
   "cell_type": "markdown",
   "metadata": {},
   "source": [
    "$$a(8)=22$$"
   ]
  },
  {
   "cell_type": "markdown",
   "metadata": {},
   "source": [
    "$$a(9)=18$$"
   ]
  },
  {
   "cell_type": "markdown",
   "metadata": {},
   "source": [
    "And, for all $n\\geq 10$:\n",
    "\n",
    "$$a(n)=12$$"
   ]
  },
  {
   "cell_type": "markdown",
   "metadata": {},
   "source": [
    "It follows that:\n",
    "\n",
    "$$EG(x)=1+x+x^{2}+\\frac{2}{3}x^{3}+\\frac{1}{3}x^{4}+\\frac{1}{12}x^{5}+\\frac{7}{360}x^{6}+\\frac{1}{280}x^{7}+\\frac{11}{20160}x^{8}+\\frac{1}{20160}x^{9}+\\sum_{n=10}^{\\infty}12\\frac{x^{n}}{n!}$$"
   ]
  },
  {
   "cell_type": "markdown",
   "metadata": {},
   "source": [
    "Or, equivalently:\n",
    "\n",
    "$$EG(x)=1+x+x^{2}+\\frac{2}{3}x^{3}+\\frac{1}{3}x^{4}+\\frac{1}{12}x^{5}+\\frac{7}{360}x^{6}+\\frac{1}{280}x^{7}+\\frac{11}{20160}x^{8}+\\frac{1}{20160}x^{9}+12\\sum_{n=10}^{\\infty}\\frac{x^{n}}{n!}$$"
   ]
  },
  {
   "cell_type": "markdown",
   "metadata": {},
   "source": [
    "Ergo:\n",
    "\n",
    "$$\\tiny EG(x)=1+x+x^{2}+\\frac{2}{3}x^{3}+\\frac{1}{3}x^{4}+\\frac{1}{12}x^{5}+\\frac{7}{360}x^{6}+\\frac{1}{280}x^{7}+\\frac{11}{20160}x^{8}+\\frac{1}{20160}x^{9}+12\\left(e^{x}-\\frac{1}{362880}x^{9}-\\frac{1}{40320}x^{8}-\\frac{1}{5040}x^{7}-\\frac{1}{720}x^{6}-\\frac{1}{120}x^{5}-\\frac{1}{24}x^{4}-\\frac{1}{6}x^{3}-\\frac{1}{2}x^{2}-x-1\\right)$$"
   ]
  },
  {
   "cell_type": "markdown",
   "metadata": {},
   "source": [
    "Therefore:\n",
    "\n",
    "$$EG(x)=-1-11x-5x^{2}-\\frac{4}{3}x^{3}-\\frac{1}{6}x^{4}-\\frac{1}{60}x^{5}+\\frac{1}{360}x^{6}+\\frac{1}{840}x^{7}+\\frac{1}{4032}x^{8}+\\frac{1}{60480}x^{9}+12e^{x}$$"
   ]
  },
  {
   "cell_type": "code",
   "execution_count": null,
   "metadata": {},
   "outputs": [],
   "source": []
  }
 ],
 "metadata": {
  "kernelspec": {
   "display_name": "Python 3",
   "language": "python",
   "name": "python3"
  },
  "language_info": {
   "codemirror_mode": {
    "name": "ipython",
    "version": 3
   },
   "file_extension": ".py",
   "mimetype": "text/x-python",
   "name": "python",
   "nbconvert_exporter": "python",
   "pygments_lexer": "ipython3",
   "version": "3.7.6"
  }
 },
 "nbformat": 4,
 "nbformat_minor": 4
}
