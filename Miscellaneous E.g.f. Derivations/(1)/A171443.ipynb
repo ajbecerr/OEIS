{
 "cells": [
  {
   "cell_type": "markdown",
   "metadata": {},
   "source": [
    "Expansion of $\\large \\frac{\\left(1+x\\right)^{8}}{1-x}$."
   ]
  },
  {
   "cell_type": "markdown",
   "metadata": {},
   "source": [
    "## Finding an exponential generating function:\n",
    "\n",
    "Define:\n",
    "\n",
    "$$EG(x)=\\sum_{n=0}^{\\infty}a(n)\\frac{x^{n}}{n!}$$"
   ]
  },
  {
   "cell_type": "markdown",
   "metadata": {},
   "source": [
    "Since:\n",
    "\n",
    "$$a(0)=1$$"
   ]
  },
  {
   "cell_type": "markdown",
   "metadata": {},
   "source": [
    "$$a(1)=9$$"
   ]
  },
  {
   "cell_type": "markdown",
   "metadata": {},
   "source": [
    "$$a(2)=37$$"
   ]
  },
  {
   "cell_type": "markdown",
   "metadata": {},
   "source": [
    "$$a(3)=93$$"
   ]
  },
  {
   "cell_type": "markdown",
   "metadata": {},
   "source": [
    "$$a(4)=163$$"
   ]
  },
  {
   "cell_type": "markdown",
   "metadata": {},
   "source": [
    "$$a(5)=219$$"
   ]
  },
  {
   "cell_type": "markdown",
   "metadata": {},
   "source": [
    "$$a(6)=247$$"
   ]
  },
  {
   "cell_type": "markdown",
   "metadata": {},
   "source": [
    "$$a(7)=255$$"
   ]
  },
  {
   "cell_type": "markdown",
   "metadata": {},
   "source": [
    "And, for all $n\\geq 8$:\n",
    "\n",
    "$$a(n)=256$$"
   ]
  },
  {
   "cell_type": "markdown",
   "metadata": {},
   "source": [
    "It follows that:\n",
    "\n",
    "$$EG(x)=1+9x+\\frac{37}{2}x^{2}+\\frac{31}{2}x^{3}+\\frac{163}{24}x^{4}+\\frac{73}{40}x^{5}+\\frac{247}{720}x^{6}+\\frac{51}{1008}x^{7}+\\sum_{n=8}^{\\infty}256\\frac{x^{n}}{n!}$$"
   ]
  },
  {
   "cell_type": "markdown",
   "metadata": {},
   "source": [
    "Or, equivalently:\n",
    "\n",
    "$$EG(x)=1+9x+\\frac{37}{2}x^{2}+\\frac{31}{2}x^{3}+\\frac{163}{24}x^{4}+\\frac{73}{40}x^{5}+\\frac{247}{720}x^{6}+\\frac{51}{1008}x^{7}+256\\sum_{n=8}^{\\infty}\\frac{x^{n}}{n!}$$"
   ]
  },
  {
   "cell_type": "markdown",
   "metadata": {},
   "source": [
    "Ergo:\n",
    "\n",
    "$$\\scriptsize EG(x)=1+9x+\\frac{37}{2}x^{2}+\\frac{31}{2}x^{3}+\\frac{163}{24}x^{4}+\\frac{73}{40}x^{5}+\\frac{247}{720}x^{6}+\\frac{51}{1008}x^{7}+256\\left(e^{x}-\\frac{1}{5040}x^{7}-\\frac{1}{720}x^{6}-\\frac{1}{120}x^{5}-\\frac{1}{24}x^{4}-\\frac{1}{6}x^{3}-\\frac{1}{2}x^{2}-x-1\\right)$$"
   ]
  },
  {
   "cell_type": "markdown",
   "metadata": {},
   "source": [
    "Therefore:\n",
    "\n",
    "$$EG(x)=-255-247x-\\frac{91}{2}x^{2}-\\frac{163}{6}x^{3}-\\frac{93}{24}x^{4}-\\frac{37}{120}x^{5}-\\frac{1}{80}x^{6}-\\frac{1}{5040}x^{7}+256e^{x}$$"
   ]
  },
  {
   "cell_type": "code",
   "execution_count": null,
   "metadata": {},
   "outputs": [],
   "source": []
  }
 ],
 "metadata": {
  "kernelspec": {
   "display_name": "Python 3",
   "language": "python",
   "name": "python3"
  },
  "language_info": {
   "codemirror_mode": {
    "name": "ipython",
    "version": 3
   },
   "file_extension": ".py",
   "mimetype": "text/x-python",
   "name": "python",
   "nbconvert_exporter": "python",
   "pygments_lexer": "ipython3",
   "version": "3.7.6"
  }
 },
 "nbformat": 4,
 "nbformat_minor": 4
}
