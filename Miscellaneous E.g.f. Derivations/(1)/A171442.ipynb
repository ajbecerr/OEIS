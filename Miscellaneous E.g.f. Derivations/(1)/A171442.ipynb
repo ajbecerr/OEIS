{
 "cells": [
  {
   "cell_type": "markdown",
   "metadata": {},
   "source": [
    "Expansion of $\\large \\frac{\\left(1+x\\right)^{6}}{1-x}$."
   ]
  },
  {
   "cell_type": "markdown",
   "metadata": {},
   "source": [
    "## Finding an exponential generating function:\n",
    "\n",
    "Define:\n",
    "\n",
    "$$EG(x)=\\sum_{n=0}^{\\infty}a(n)\\frac{x^{n}}{n!}$$"
   ]
  },
  {
   "cell_type": "markdown",
   "metadata": {},
   "source": [
    "Since:\n",
    "\n",
    "$$a(0)=1$$"
   ]
  },
  {
   "cell_type": "markdown",
   "metadata": {},
   "source": [
    "$$a(1)=8$$"
   ]
  },
  {
   "cell_type": "markdown",
   "metadata": {},
   "source": [
    "$$a(2)=29$$"
   ]
  },
  {
   "cell_type": "markdown",
   "metadata": {},
   "source": [
    "$$a(3)=64$$"
   ]
  },
  {
   "cell_type": "markdown",
   "metadata": {},
   "source": [
    "$$a(4)=99$$"
   ]
  },
  {
   "cell_type": "markdown",
   "metadata": {},
   "source": [
    "$$a(5)=120$$"
   ]
  },
  {
   "cell_type": "markdown",
   "metadata": {},
   "source": [
    "$$a(6)=127$$"
   ]
  },
  {
   "cell_type": "markdown",
   "metadata": {},
   "source": [
    "And, for all $n\\geq 7$:\n",
    "\n",
    "$$a(n)=128$$"
   ]
  },
  {
   "cell_type": "markdown",
   "metadata": {},
   "source": [
    "It follows that:\n",
    "\n",
    "$$EG(x)=1+8x+\\frac{29}{2}x^{2}+\\frac{32}{3}x^{3}+\\frac{33}{8}x^{4}+x^{5}+\\frac{127}{720}x^{6}+\\sum_{n=7}^{\\infty}128\\frac{x^{n}}{n!}$$"
   ]
  },
  {
   "cell_type": "markdown",
   "metadata": {},
   "source": [
    "Or, equivalently:\n",
    "\n",
    "$$EG(x)=1+8x+\\frac{29}{2}x^{2}+\\frac{32}{3}x^{3}+\\frac{33}{8}x^{4}+x^{5}+\\frac{127}{720}x^{6}+128\\sum_{n=7}^{\\infty}\\frac{x^{n}}{n!}$$"
   ]
  },
  {
   "cell_type": "markdown",
   "metadata": {},
   "source": [
    "Ergo:\n",
    "\n",
    "$$EG(x)=1+8x+\\frac{29}{2}x^{2}+\\frac{32}{3}x^{3}+\\frac{33}{8}x^{4}+x^{5}+\\frac{127}{720}x^{6}+128\\left(e^{x}-\\frac{1}{720}x^{6}-\\frac{1}{120}x^{5}-\\frac{1}{24}x^{4}-\\frac{1}{6}x^{3}-\\frac{1}{2}x^{2}-x-1\\right)$$"
   ]
  },
  {
   "cell_type": "markdown",
   "metadata": {},
   "source": [
    "Therefore:\n",
    "\n",
    "$$EG(x)=-127-120x-\\frac{99}{2}x^{2}-\\frac{31}{3}x^{3}-\\frac{29}{24}x^{4}-\\frac{1}{15}x^{5}-\\frac{1}{720}x^{6}+128e^{x}$$"
   ]
  },
  {
   "cell_type": "code",
   "execution_count": null,
   "metadata": {},
   "outputs": [],
   "source": []
  }
 ],
 "metadata": {
  "kernelspec": {
   "display_name": "Python 3",
   "language": "python",
   "name": "python3"
  },
  "language_info": {
   "codemirror_mode": {
    "name": "ipython",
    "version": 3
   },
   "file_extension": ".py",
   "mimetype": "text/x-python",
   "name": "python",
   "nbconvert_exporter": "python",
   "pygments_lexer": "ipython3",
   "version": "3.7.6"
  }
 },
 "nbformat": 4,
 "nbformat_minor": 4
}
