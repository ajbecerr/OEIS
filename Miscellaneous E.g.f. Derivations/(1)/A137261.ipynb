{
 "cells": [
  {
   "cell_type": "markdown",
   "metadata": {},
   "source": [
    "G.f.: $\\frac{5764801x^8-5764801x^7+28812x^4-28812x^3+840x-1200}{x-1}$."
   ]
  },
  {
   "cell_type": "markdown",
   "metadata": {},
   "source": [
    "## Finding an exponential generating function:\n",
    "\n",
    "Define:\n",
    "\n",
    "$$EG(x)=\\sum_{n=0}^{\\infty}a(n)\\frac{x^{n}}{n!}$$"
   ]
  },
  {
   "cell_type": "markdown",
   "metadata": {},
   "source": [
    "Since:\n",
    "\n",
    "$$a(1)=1200$$"
   ]
  },
  {
   "cell_type": "markdown",
   "metadata": {},
   "source": [
    "$$a(2)=360$$"
   ]
  },
  {
   "cell_type": "markdown",
   "metadata": {},
   "source": [
    "$$a(3)=360$$"
   ]
  },
  {
   "cell_type": "markdown",
   "metadata": {},
   "source": [
    "$$a(4)=29172$$"
   ]
  },
  {
   "cell_type": "markdown",
   "metadata": {},
   "source": [
    "$$a(5)=360$$"
   ]
  },
  {
   "cell_type": "markdown",
   "metadata": {},
   "source": [
    "$$a(6)=360$$"
   ]
  },
  {
   "cell_type": "markdown",
   "metadata": {},
   "source": [
    "$$a(7)=360$$"
   ]
  },
  {
   "cell_type": "markdown",
   "metadata": {},
   "source": [
    "$$a(8)=5765161$$"
   ]
  },
  {
   "cell_type": "markdown",
   "metadata": {},
   "source": [
    "And, for all $n\\geq 9$:\n",
    "\n",
    "$$a(n)=360$$"
   ]
  },
  {
   "cell_type": "markdown",
   "metadata": {},
   "source": [
    "It follows that:\n",
    "\n",
    "$$EG(x)=1200x+180x^{2}+60x^{3}+\\frac{2431}{2}x^{4}+3x^{5}+\\frac{1}{2}x^{6}+\\frac{1}{14}x^{7}+\\frac{5765161}{40320}x^{8}+\\sum_{n=9}^{\\infty}360\\frac{x^{n}}{n!}$$"
   ]
  },
  {
   "cell_type": "markdown",
   "metadata": {},
   "source": [
    "Or, equivalently:\n",
    "\n",
    "$$EG(x)=1200x+180x^{2}+60x^{3}+\\frac{2431}{2}x^{4}+3x^{5}+\\frac{1}{2}x^{6}+\\frac{1}{14}x^{7}+\\frac{5765161}{40320}x^{8}+360\\sum_{n=9}^{\\infty}\\frac{x^{n}}{n!}$$"
   ]
  },
  {
   "cell_type": "markdown",
   "metadata": {},
   "source": [
    "Ergo:\n",
    "\n",
    "$$\\scriptsize EG(x)=1200x+180x^{2}+60x^{3}+\\frac{2431}{2}x^{4}+3x^{5}+\\frac{1}{2}x^{6}+\\frac{1}{14}x^{7}+\\frac{5765161}{40320}x^{8}+360\\left(e^{x}-\\frac{1}{40320}x^{8}-\\frac{1}{5040}x^{7}-\\frac{1}{720}x^{6}-\\frac{1}{120}x^{5}-\\frac{1}{24}x^{4}-\\frac{1}{6}x^{3}-\\frac{1}{2}x^{2}-x-1\\right)$$"
   ]
  },
  {
   "cell_type": "markdown",
   "metadata": {},
   "source": [
    "Therefore:\n",
    "\n",
    "$$EG(x)=840x+\\frac{2401}{2}x^{4}+\\frac{5764801}{40320}x^{8}+360e^{x}$$"
   ]
  },
  {
   "cell_type": "code",
   "execution_count": null,
   "metadata": {},
   "outputs": [],
   "source": []
  }
 ],
 "metadata": {
  "kernelspec": {
   "display_name": "Python 3",
   "language": "python",
   "name": "python3"
  },
  "language_info": {
   "codemirror_mode": {
    "name": "ipython",
    "version": 3
   },
   "file_extension": ".py",
   "mimetype": "text/x-python",
   "name": "python",
   "nbconvert_exporter": "python",
   "pygments_lexer": "ipython3",
   "version": "3.7.6"
  }
 },
 "nbformat": 4,
 "nbformat_minor": 4
}
