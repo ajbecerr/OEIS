{
 "cells": [
  {
   "cell_type": "markdown",
   "metadata": {},
   "source": [
    "Coefficients in the expansion of $\\frac{1}{[r] + [2r]x + [3r]x^2 + ...}$; $[ ]$ = floor, $r = \\frac{3}{2}$."
   ]
  },
  {
   "cell_type": "markdown",
   "metadata": {},
   "source": [
    "## Finding an exponential generating function:\n",
    "\n",
    "Define:\n",
    "\n",
    "$$EG(x)=\\sum_{n=0}^{\\infty}a(n)\\frac{x^{n}}{n!}$$"
   ]
  },
  {
   "cell_type": "markdown",
   "metadata": {},
   "source": [
    "Since:\n",
    "\n",
    "$$a(0)=1$$"
   ]
  },
  {
   "cell_type": "markdown",
   "metadata": {},
   "source": [
    "$$a(1)=-3$$"
   ]
  },
  {
   "cell_type": "markdown",
   "metadata": {},
   "source": [
    "$$a(2)=5$$"
   ]
  },
  {
   "cell_type": "markdown",
   "metadata": {},
   "source": [
    "And, for all $n\\geq 3$:\n",
    "\n",
    "$$a(n)=9\\times\\left(-1\\right)^{n}\\times2^{n-3}$$"
   ]
  },
  {
   "cell_type": "markdown",
   "metadata": {},
   "source": [
    "It follows that:\n",
    "\n",
    "$$EG(x)=1-3x+\\frac{5}{2}x^{2}+\\sum_{n=3}^{\\infty}9\\times\\left(-1\\right)^{n}\\times2^{n-3}\\frac{x^{n}}{n!}$$"
   ]
  },
  {
   "cell_type": "markdown",
   "metadata": {},
   "source": [
    "Or, equivalently:\n",
    "\n",
    "$$EG(x)=1-3x+\\frac{5}{2}x^{2}+\\frac{9}{8}\\sum_{n=3}^{\\infty}\\left(-2\\right)^{n}\\frac{x^{n}}{n!}$$"
   ]
  },
  {
   "cell_type": "markdown",
   "metadata": {},
   "source": [
    "Ergo:\n",
    "\n",
    "$$EG(x)=1-3x+\\frac{5}{2}x^{2}+\\frac{9}{8}\\left(e^{-2x}-2x^{2}+2x-1\\right)$$"
   ]
  },
  {
   "cell_type": "markdown",
   "metadata": {},
   "source": [
    "Therefore:\n",
    "\n",
    "$$EG(x)=-\\frac{1}{8}-\\frac{3}{4}x+\\frac{1}{4}x^{2}+\\frac{9}{8}e^{-2x}$$"
   ]
  },
  {
   "cell_type": "code",
   "execution_count": null,
   "metadata": {},
   "outputs": [],
   "source": []
  }
 ],
 "metadata": {
  "kernelspec": {
   "display_name": "Python 3",
   "language": "python",
   "name": "python3"
  },
  "language_info": {
   "codemirror_mode": {
    "name": "ipython",
    "version": 3
   },
   "file_extension": ".py",
   "mimetype": "text/x-python",
   "name": "python",
   "nbconvert_exporter": "python",
   "pygments_lexer": "ipython3",
   "version": "3.7.6"
  }
 },
 "nbformat": 4,
 "nbformat_minor": 4
}
