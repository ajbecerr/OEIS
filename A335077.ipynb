{
 "cells": [
  {
   "cell_type": "markdown",
   "metadata": {},
   "source": [
    "$a(n)$ sets a record for side length $k$ of zero-triangle in a rotationally symmetrical $XOR$-triangle."
   ]
  },
  {
   "cell_type": "markdown",
   "metadata": {},
   "source": [
    "## Finding a closed formula:\n",
    "\n",
    "Since, for all $n\\geq 7$:\n",
    "\n",
    "$$a\\left(n\\right)=5\\times a\\left(n-1\\right)-4\\times a\\left(n-2\\right)$$"
   ]
  },
  {
   "cell_type": "markdown",
   "metadata": {},
   "source": [
    "And:\n",
    "\n",
    "$$a\\left(5\\right)=2391$$"
   ]
  },
  {
   "cell_type": "markdown",
   "metadata": {},
   "source": [
    "$$a\\left(6\\right)=9559$$"
   ]
  },
  {
   "cell_type": "markdown",
   "metadata": {},
   "source": [
    "There exists a closed formula of the form:\n",
    "\n",
    "$$a\\left(n\\right)=c_{1}+c_{2}4^{n}$$"
   ]
  },
  {
   "cell_type": "markdown",
   "metadata": {},
   "source": [
    "The initial value problem:\n",
    "\n",
    "$$2391=c_{1}+c_{2}4^{5}$$"
   ]
  },
  {
   "cell_type": "markdown",
   "metadata": {},
   "source": [
    "$$9559=c_{1}+c_{2}4^{6}$$"
   ]
  },
  {
   "cell_type": "markdown",
   "metadata": {},
   "source": [
    "Is satisfied by the coefficients:\n",
    "\n",
    "$$c_{1}=\\frac{5}{3}$$"
   ]
  },
  {
   "cell_type": "markdown",
   "metadata": {},
   "source": [
    "$$c_{2}=\\frac{7}{3}$$"
   ]
  },
  {
   "cell_type": "markdown",
   "metadata": {},
   "source": [
    "Therefore, for $n\\geq 5$:\n",
    "\n",
    "$$a\\left(n\\right)=\\frac{5}{3}+\\frac{7}{3}4^{n}$$"
   ]
  },
  {
   "cell_type": "markdown",
   "metadata": {},
   "source": [
    "## Finding a generating function:\n",
    "\n",
    "Define:\n",
    "\n",
    "$$G(x)=\\sum_{n=1}^{\\infty}a(n)x^{n}$$"
   ]
  },
  {
   "cell_type": "markdown",
   "metadata": {},
   "source": [
    "Since, for all $n\\geq 5$:\n",
    "\n",
    "$$a\\left(n\\right)=\\frac{5}{3}+\\frac{7}{3}4^{n}$$"
   ]
  },
  {
   "cell_type": "markdown",
   "metadata": {},
   "source": [
    "And:\n",
    "\n",
    "$$a\\left(1\\right)=1$$"
   ]
  },
  {
   "cell_type": "markdown",
   "metadata": {},
   "source": [
    "$$a\\left(2\\right)=11$$"
   ]
  },
  {
   "cell_type": "markdown",
   "metadata": {},
   "source": [
    "$$a\\left(3\\right)=39$$"
   ]
  },
  {
   "cell_type": "markdown",
   "metadata": {},
   "source": [
    "$$a\\left(4\\right)=543$$"
   ]
  },
  {
   "cell_type": "markdown",
   "metadata": {},
   "source": [
    "It follows that:\n",
    "\n",
    "$$G(x)=x+11x^{2}+39x^{3}+543x^{4}+\\sum_{n=5}^{\\infty}\\left(\\frac{5}{3}+\\frac{7}{3}4^{n}\\right)x^{n}$$"
   ]
  },
  {
   "cell_type": "markdown",
   "metadata": {},
   "source": [
    "Or, equivalently:\n",
    "\n",
    "$$G(x)=x+11x^{2}+39x^{3}+543x^{4}+\\frac{5}{3}\\sum_{n=5}^{\\infty}x^{n}+\\frac{7}{3}\\sum_{n=5}^{\\infty}4^{n}x^{n}$$"
   ]
  },
  {
   "cell_type": "markdown",
   "metadata": {},
   "source": [
    "Ergo:\n",
    "\n",
    "$$\\small G(x)=x+11x^{2}+39x^{3}+543x^{4}+\\frac{5}{3}\\left(\\frac{1}{1-x}-x^{5}-x^{4}-x^{3}-x^{2}-x-1\\right)+\\frac{7}{3}\\left(\\frac{1}{1-4x}-1024x^{5}-256x^{4}-64x^{3}-16x^{2}-4x-1\\right)$$"
   ]
  },
  {
   "cell_type": "markdown",
   "metadata": {},
   "source": [
    "Therefore:\n",
    "\n",
    "$$G(x) = \\frac{4-9x}{4x^{2} - 5x + 1} - 56x^{4} - 112x^{3} - 28x^{2} - 10x - 4$$"
   ]
  },
  {
   "cell_type": "code",
   "execution_count": null,
   "metadata": {},
   "outputs": [],
   "source": []
  }
 ],
 "metadata": {
  "kernelspec": {
   "display_name": "Python 3",
   "language": "python",
   "name": "python3"
  },
  "language_info": {
   "codemirror_mode": {
    "name": "ipython",
    "version": 3
   },
   "file_extension": ".py",
   "mimetype": "text/x-python",
   "name": "python",
   "nbconvert_exporter": "python",
   "pygments_lexer": "ipython3",
   "version": "3.7.6"
  }
 },
 "nbformat": 4,
 "nbformat_minor": 4
}
