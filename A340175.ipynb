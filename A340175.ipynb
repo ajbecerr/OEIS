{
 "cells": [
  {
   "cell_type": "markdown",
   "metadata": {},
   "source": [
    "Number of sets in the geometry determined by the Hausdorff metric at each location between two sets defined by a complete bipartite graph $K(6, n)$ (with $n$ at least $3$) missing two edges, where the two removed edges are not incident to the same vertex in the $6$-point set but are incident to the same vertex in the other set."
   ]
  },
  {
   "cell_type": "markdown",
   "metadata": {},
   "source": [
    "## Finding a generating function:\n",
    "\n",
    "Define:\n",
    "\n",
    "$$G(x)=\\sum_{n=3}^{\\infty}a(n)x^{n}$$"
   ]
  },
  {
   "cell_type": "markdown",
   "metadata": {},
   "source": [
    "For all $n\\geq3$, since:\n",
    "\n",
    "$$a(n)=15\\times63^{n-1}-58\\times31^{n-1}+89\\times15^{n-1}-68\\times7^{n-1}+26\\times3^{n-1}-4$$"
   ]
  },
  {
   "cell_type": "markdown",
   "metadata": {},
   "source": [
    "It follows that:\n",
    "\n",
    "$$G(x)=\\sum_{n=3}^{\\infty}\\left(15\\times63^{n-1}-58\\times31^{n-1}+89\\times15^{n-1}-68\\times7^{n-1}+26\\times3^{n-1}-4\\right)x^{n}$$"
   ]
  },
  {
   "cell_type": "markdown",
   "metadata": {},
   "source": [
    "Or, equivalently:\n",
    "\n",
    "$$G(x)=\\frac{15}{63}\\sum_{n=3}^{\\infty}63^{n}x^{n}-\\frac{58}{31}\\sum_{n=3}^{\\infty}31^{n}x^{n}+\\frac{89}{15}\\sum_{n=3}^{\\infty}15^{n}x^{n}-\\frac{68}{7}\\sum_{n=3}^{\\infty}7^nx^{n}+\\frac{26}{3}\\sum_{n=3}^{\\infty}3^{n}x^{n}-4\\sum_{n=3}^{\\infty}x^{n}$$"
   ]
  },
  {
   "cell_type": "markdown",
   "metadata": {},
   "source": [
    "Ergo:\n",
    "\n",
    "$$\\tiny G(x)=\\frac{15}{63}\\left(\\frac{1}{1-63x}-3969x^{2}-63x-1\\right)-\\frac{58}{31}\\left(\\frac{1}{1-31x}-961x^{2}-31x-1\\right)+\\frac{89}{15}\\left(\\frac{1}{1-15x}-225x^{2}-15x-1\\right)-\\frac{68}{7}\\left(\\frac{1}{1-7x}-49x^{2}-7x-1\\right)+\\frac{26}{3}\\left(\\frac{1}{1-3x}-9x^{2}-3x-1\\right)-4\\left(\\frac{1}{1-x}-x^{2}-x-1\\right)$$"
   ]
  },
  {
   "cell_type": "markdown",
   "metadata": {},
   "source": [
    "Or, equivalently:\n",
    "\n",
    "$$G(x)=\\frac{15}{63-3969x}-\\frac{58}{31-961x}+\\frac{89}{15-225x}-\\frac{68}{7-49x}+\\frac{26}{3-9x}-\\frac{4}{1-x}-80x^{2}+\\frac{2432}{3255}$$"
   ]
  },
  {
   "cell_type": "markdown",
   "metadata": {},
   "source": [
    "Therefore:\n",
    "\n",
    "$$G(x)=\\frac{-16x^3\\left(3075975x^5-4893840x^4+2115207x^3-385781x^2+11614x-1295\\right)}{\\left(1-63x\\right)\\left(1-31x\\right)\\left(1-15x\\right)\\left(1-7x\\right)\\left(1-3x\\right)\\left(1-x\\right)}$$"
   ]
  },
  {
   "cell_type": "markdown",
   "metadata": {},
   "source": [
    "## Finding a recurrence relation:\n",
    "\n",
    "If $G(x)$ is of the form $\\frac{P(x)}{Q(x)}$ where the degree of the polynomial $Q(x)$ is greater than the degree of the polynomial $P(x)$, and $0$ is not a root of $Q(x)$, then for all $n\\geq k$ it follows that:\n",
    "\n",
    "$$a(n)=-\\frac{1}{q_{0}}\\sum_{l=1}^{k}q_{l}\\times a\\left(n-l\\right)$$\n",
    "\n",
    "Where:\n",
    "\n",
    "$$Q(x)=\\sum_{l=0}^{k}q_{l}x^{l}$$"
   ]
  },
  {
   "cell_type": "markdown",
   "metadata": {},
   "source": [
    "However, due to the offset of this sequence, and the way the generating funtion has been defined, it is not the case that the degree of the polynomial $Q(x)$ is greater than the degree of the polynomial $P(x)$. This could probably be ignored, but that would not be mathematically precise. Rather, define a new generating function:\n",
    "\n",
    "$$H(x)=\\frac{-16\\left(3075975x^5-4893840x^4+2115207x^3-385781x^2+11614x-1295\\right)}{\\left(1-63x\\right)\\left(1-31x\\right)\\left(1-15x\\right)\\left(1-7x\\right)\\left(1-3x\\right)\\left(1-x\\right)}$$"
   ]
  },
  {
   "cell_type": "markdown",
   "metadata": {},
   "source": [
    "Whose expansion gives the sequence $b(n)$, which is the same as $a(n)$, but with an offset of $0$ instead of $3$. Notice that $H(x)$ allows the application of the theorem discussed above. Ergo, for all $n\\geq 6$:\n",
    "\n",
    "$$b(n)=120\\times b\\left(n-1\\right)-4593\\times b\\left(n-2\\right)+69688\\times b\\left(n-3\\right)-428787\\times b\\left(n-4\\right)+978768\\times b\\left(n-5\\right)-615195\\times b\\left(n-6\\right)$$"
   ]
  },
  {
   "cell_type": "markdown",
   "metadata": {},
   "source": [
    "Where:\n",
    "\n",
    "$$b(0)=20720$$"
   ]
  },
  {
   "cell_type": "markdown",
   "metadata": {},
   "source": [
    "$$b(1)=2300576$$"
   ]
  },
  {
   "cell_type": "markdown",
   "metadata": {},
   "source": [
    "$$b(2)=187074656$$"
   ]
  },
  {
   "cell_type": "markdown",
   "metadata": {},
   "source": [
    "$$b(3)=13292505200$$"
   ]
  },
  {
   "cell_type": "markdown",
   "metadata": {},
   "source": [
    "$$b(4)=887383104080$$"
   ]
  },
  {
   "cell_type": "markdown",
   "metadata": {},
   "source": [
    "$$b(5)=57504128509376$$"
   ]
  },
  {
   "cell_type": "markdown",
   "metadata": {},
   "source": [
    "Therefore, quite similarly, for all $n\\geq 9$:\n",
    "\n",
    "$$a(n)=120\\times a\\left(n-1\\right)-4593\\times a\\left(n-2\\right)+69688\\times a\\left(n-3\\right)-428787\\times a\\left(n-4\\right)+978768\\times a\\left(n-5\\right)-615195\\times a\\left(n-6\\right)$$"
   ]
  },
  {
   "cell_type": "markdown",
   "metadata": {},
   "source": [
    "Where:\n",
    "\n",
    "$$a(3)=20720$$"
   ]
  },
  {
   "cell_type": "markdown",
   "metadata": {},
   "source": [
    "$$a(4)=2300576$$"
   ]
  },
  {
   "cell_type": "markdown",
   "metadata": {},
   "source": [
    "$$a(5)=187074656$$"
   ]
  },
  {
   "cell_type": "markdown",
   "metadata": {},
   "source": [
    "$$a(6)=13292505200$$"
   ]
  },
  {
   "cell_type": "markdown",
   "metadata": {},
   "source": [
    "$$a(7)=887383104080$$"
   ]
  },
  {
   "cell_type": "markdown",
   "metadata": {},
   "source": [
    "$$a(8)=57504128509376$$"
   ]
  },
  {
   "cell_type": "code",
   "execution_count": 1,
   "metadata": {},
   "outputs": [],
   "source": [
    "def f(n):\n",
    "    A = [20720,2300576,187074656,13292505200,887383104080,57504128509376]\n",
    "    if n <= 8:\n",
    "        return(A[:n-2])\n",
    "    else:\n",
    "        for i in range(9, n+1):\n",
    "            A.append(120*A[-1]-4593*A[-2]+69688*A[-3]-428787*A[-4]+978768*A[-5]-615195*A[-6])\n",
    "        return(A)"
   ]
  },
  {
   "cell_type": "code",
   "execution_count": 2,
   "metadata": {},
   "outputs": [
    {
     "name": "stdout",
     "output_type": "stream",
     "text": [
      "True\n"
     ]
    }
   ],
   "source": [
    "# Checking first few terms of A340175\n",
    "print(f(15) == [20720,2300576,187074656,13292505200,887383104080,\n",
    " 57504128509376,3673096729270976,\n",
    " 232977132982939280,14726467240259960240,\n",
    " 929286203862118743776,58592152032205560862496,\n",
    " 3692766925932013206557360,\n",
    " 232689626985868508845398800])"
   ]
  },
  {
   "cell_type": "code",
   "execution_count": null,
   "metadata": {},
   "outputs": [],
   "source": []
  }
 ],
 "metadata": {
  "kernelspec": {
   "display_name": "Python 3",
   "language": "python",
   "name": "python3"
  },
  "language_info": {
   "codemirror_mode": {
    "name": "ipython",
    "version": 3
   },
   "file_extension": ".py",
   "mimetype": "text/x-python",
   "name": "python",
   "nbconvert_exporter": "python",
   "pygments_lexer": "ipython3",
   "version": "3.7.6"
  }
 },
 "nbformat": 4,
 "nbformat_minor": 4
}
