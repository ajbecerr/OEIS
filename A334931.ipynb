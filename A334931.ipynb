{
 "cells": [
  {
   "cell_type": "markdown",
   "metadata": {},
   "source": [
    "Numbers that generate rotationally symmetrical XOR-triangles with a pattern of zero-triangles of edge length 2, some of which are clipped to result in some singleton zeros at the edges."
   ]
  },
  {
   "cell_type": "markdown",
   "metadata": {},
   "source": [
    "## For n = 1 (mod 8):\n",
    "\n",
    "a(n) has the run length form 12..(1132)..113 where the parenthetic run lengths occur, when they occur, in multiples of 3.\n",
    "\n",
    "This corresponds to the binary number form 100..(1011100)..10111.\n",
    "\n",
    "So, a(1) = 10010111 [base 2] = 151 [base 10] and a(9) = 10010111001011100101110010111 [base 2] = 317049751 [base 10]\n",
    "\n",
    "Generally, when $n=1$ $(mod$ $8)$ and $n\\geq9$, it follows that:\n",
    "\n",
    "$$a(n)=2^{\\frac{21n+35}{8}}+\\sum_{k=0}^{\\frac{3n-11}{8}}\\left(2^{11+7k}+2^{9+7k}+2^{8+7k}+2^{7+7k}\\right)+2^{4}+2^{2}+2^{1}+2^{0}$$\n",
    "\n",
    "Or, equivalently:\n",
    "\n",
    "$$a(n)=2^{\\frac{21n+35}{8}}+2944\\sum_{k=0}^{\\frac{3n-11}{8}}\\left(2^{7k}\\right)+23$$"
   ]
  },
  {
   "cell_type": "code",
   "execution_count": 1,
   "metadata": {},
   "outputs": [],
   "source": [
    "def g1(index):\n",
    "    S = 0\n",
    "    for i in range(int((3*index-11)/8)+1):\n",
    "        S = S + 2**(7*i)\n",
    "    S = 2**(int((21*index+35)/8)) + 2944*S + 23\n",
    "    return(S)"
   ]
  },
  {
   "cell_type": "code",
   "execution_count": 2,
   "metadata": {},
   "outputs": [
    {
     "name": "stdout",
     "output_type": "stream",
     "text": [
      "151\n",
      "317049751\n",
      "664901519788951\n"
     ]
    }
   ],
   "source": [
    "print(g1(1))\n",
    "print(g1(9))\n",
    "print(g1(17))"
   ]
  },
  {
   "cell_type": "markdown",
   "metadata": {},
   "source": [
    "## For n = 2 (mod 8):\n",
    "\n",
    "a(n) has the run length form 311..(2311)..21 where the parenthetic run lengths occur, when they occur, in multiples of 3.\n",
    "\n",
    "This corresponds to the binary number form 11101..(0011101)..001.\n",
    "\n",
    "So, a(2) = 11101001 [base 2] = 233 [base 10] and a(10) = 11101001110100111010011101001 [base 2] = 490370281 [base 10]\n",
    "\n",
    "Generally, when $n=2$ $(mod$ $8)$ and $n\\geq10$, it follows that:\n",
    "\n",
    "$$a(n)=2^{\\frac{21n+14}{8}}+2^{\\frac{21n+6}{8}}+2^{\\frac{21n-2}{8}}+2^{\\frac{21n-18}{8}}+\\sum_{k=0}^{\\frac{3n-14}{8}}\\left(2^{7+7k}+2^{6+7k}+2^{5+7k}+2^{3+7k}\\right)+2^{0}$$\n",
    "\n",
    "Or, equivalently:\n",
    "\n",
    "$$a(n)=29\\times2^{\\frac{21n-18}{8}}+232\\sum_{k=0}^{\\frac{3n-14}{8}}\\left(2^{7k}\\right)+1$$"
   ]
  },
  {
   "cell_type": "code",
   "execution_count": 3,
   "metadata": {},
   "outputs": [],
   "source": [
    "def g2(index):\n",
    "    S = 0\n",
    "    for i in range(int((3*index-14)/8)+1):\n",
    "        S = S + 2**(7*i)\n",
    "    S = 29*(2**(int((21*index-18)/8))) + 232*S + 1\n",
    "    return(S)"
   ]
  },
  {
   "cell_type": "code",
   "execution_count": 4,
   "metadata": {},
   "outputs": [
    {
     "name": "stdout",
     "output_type": "stream",
     "text": [
      "233\n",
      "490370281\n",
      "1028381017273577\n"
     ]
    }
   ],
   "source": [
    "print(g2(2))\n",
    "print(g2(10))\n",
    "print(g2(18))"
   ]
  },
  {
   "cell_type": "markdown",
   "metadata": {},
   "source": [
    "## For n = 3 (mod 8):\n",
    "\n",
    "a(n) has the run length form 113..(2113)..2112 where the parenthetic run lengths occur, when they occur, in multiples of 3.\n",
    "\n",
    "This corresponds to the binary number form 10111..(0010111)..001011.\n",
    "\n",
    "So, a(3) = 10111001011 [base 2] = 1483 [base 10] and a(11) = 10111001011100101110010111001011 [base 2] = 3111314891 [base 10]\n",
    "\n",
    "Generally, when $n=3$ $(mod$ $8)$ and $n\\geq11$, it follows that:\n",
    "\n",
    "$$a(n)=2^{\\frac{21n+17}{8}}+2^{\\frac{21n+1}{8}}+2^{\\frac{21n-7}{8}}+2^{\\frac{21n-15}{8}}+\\sum_{k=0}^{\\frac{3n-17}{8}}\\left(2^{10+7k}+2^{8+7k}+2^{7+7k}+2^{6+7k}\\right)+2^{3}+2^{1}+2^{0}$$\n",
    "\n",
    "Or, equivalently:\n",
    "\n",
    "$$a(n)=23\\times2^{\\frac{21n-15}{8}}+1472\\sum_{k=0}^{\\frac{3n-17}{8}}\\left(2^{7k}\\right)+11$$"
   ]
  },
  {
   "cell_type": "code",
   "execution_count": 5,
   "metadata": {},
   "outputs": [],
   "source": [
    "def g3(index):\n",
    "    S = 0\n",
    "    for i in range(int((3*index-17)/8)+1):\n",
    "        S = S + 2**(7*i)\n",
    "    S = 23*(2**(int((21*index-15)/8))) + 1472*S + 11\n",
    "    return(S)"
   ]
  },
  {
   "cell_type": "code",
   "execution_count": 6,
   "metadata": {},
   "outputs": [
    {
     "name": "stdout",
     "output_type": "stream",
     "text": [
      "1483\n",
      "3111314891\n",
      "6524900247528907\n"
     ]
    }
   ],
   "source": [
    "print(g3(3))\n",
    "print(g3(11))\n",
    "print(g3(19))"
   ]
  },
  {
   "cell_type": "markdown",
   "metadata": {},
   "source": [
    "## For n = 4 (mod 8):\n",
    "\n",
    "a(n) has the run length form 2112..(3112)..311 where the parenthetic run lengths occur, when they occur, in multiples of 3.\n",
    "\n",
    "This corresponds to the binary number form 110100..(1110100)..11101.\n",
    "\n",
    "So, a(4) = 11010011101 [base 2] = 1693 [base 10] and a(12) = 11010011101001110100111010011101 [base 2] = 3550957213 [base 10]\n",
    "\n",
    "Generally, when $n=4$ $(mod$ $8)$ and $n\\geq12$, it follows that:\n",
    "\n",
    "$$a(n)=2^{\\frac{21n-4}{8}}+2^{\\frac{21n-12}{8}}+2^{\\frac{21n-28}{8}}+\\sum_{k=0}^{\\frac{3n-20}{8}}\\left(2^{11+7k}+2^{10+7k}+2^{9+7k}+2^{7+7k}\\right)+2^{4}+2^{3}+2^{2}+2^{0}$$\n",
    "\n",
    "Or, equivalently:\n",
    "\n",
    "$$a(n)=13\\times2^{\\frac{21n-28}{8}}+3712\\sum_{k=0}^{\\frac{3n-20}{8}}\\left(2^{7k}\\right)+29$$"
   ]
  },
  {
   "cell_type": "code",
   "execution_count": 7,
   "metadata": {},
   "outputs": [],
   "source": [
    "def g4(index):\n",
    "    S = 0\n",
    "    for i in range(int((3*index-20)/8)+1):\n",
    "        S = S + 2**(7*i)\n",
    "    S = 13*(2**(int((21*index-28)/8))) + 3712*S + 29\n",
    "    return(S)"
   ]
  },
  {
   "cell_type": "code",
   "execution_count": 8,
   "metadata": {},
   "outputs": [
    {
     "name": "stdout",
     "output_type": "stream",
     "text": [
      "1693\n",
      "3550957213\n",
      "7446897021636253\n"
     ]
    }
   ],
   "source": [
    "print(g4(4))\n",
    "print(g4(12))\n",
    "print(g4(20))"
   ]
  },
  {
   "cell_type": "markdown",
   "metadata": {},
   "source": [
    "## For n = 5 (mod 8):\n",
    "\n",
    "a(n) has the run length form 11123..(1123)..1122 where the parenthetic run lengths occur, when they occur, in multiples of 3.\n",
    "\n",
    "This corresponds to the binary number form 10100111..(0100111)..010011.\n",
    "\n",
    "So, a(5) = 10100111010011 [base 2] = 10707 [base 10] and a(13) = 10100111010011101001110100111010011 [base 2] = 22455577043 [base 10]\n",
    "\n",
    "Generally, when $n=5$ $(mod$ $8)$ and $n\\geq13$, it follows that:\n",
    "\n",
    "$$a(n)=2^{\\frac{21n-1}{8}}+2^{\\frac{21n-17}{8}}+2^{\\frac{21n-41}{8}}+2^{\\frac{21n-49}{8}}+2^{\\frac{21n-57}{8}}+\\sum_{k=0}^{\\frac{3n-23}{8}}\\left(2^{11+7k}+2^{8+7k}+2^{7+7k}+2^{6+7k}\\right)+2^{4}+2^{1}+2^{0}$$\n",
    "\n",
    "Or, equivalently:\n",
    "\n",
    "$$a(n)=167\\times2^{\\frac{21n-57}{8}}+2496\\sum_{k=0}^{\\frac{3n-23}{8}}\\left(2^{7k}\\right)+19$$"
   ]
  },
  {
   "cell_type": "code",
   "execution_count": 9,
   "metadata": {},
   "outputs": [],
   "source": [
    "def g5(index):\n",
    "    S = 0\n",
    "    for i in range(int((3*index-23)/8)+1):\n",
    "        S = S + 2**(7*i)\n",
    "    S = 167*(2**(int((21*index-57)/8))) + 2496*S + 19\n",
    "    return(S)"
   ]
  },
  {
   "cell_type": "code",
   "execution_count": 10,
   "metadata": {},
   "outputs": [
    {
     "name": "stdout",
     "output_type": "stream",
     "text": [
      "10707\n",
      "22455577043\n",
      "47092758308252115\n"
     ]
    }
   ],
   "source": [
    "print(g5(5))\n",
    "print(g5(13))\n",
    "print(g5(21))"
   ]
  },
  {
   "cell_type": "markdown",
   "metadata": {},
   "source": [
    "## For n = 6 (mod 8):\n",
    "\n",
    "a(n) has the run length form 2211..(3211)..32111 where the parenthetic run lengths occur, when they occur, in multiples of 3.\n",
    "\n",
    "This corresponds to the binary number form 110010..(1110010)..11100101.\n",
    "\n",
    "So, a(6) = 11001011100101 [base 2] = 13029 [base 10] and a(14) = 11001011100101110010111001011100101 [base 2] = 27325461221 [base 10]\n",
    "\n",
    "Generally, when $n=6$ $(mod$ $8)$ and $n\\geq14$, it follows that:\n",
    "\n",
    "$$a(n)=2^{\\frac{21n-22}{8}}+2^{\\frac{21n-30}{8}}+2^{\\frac{21n-54}{8}}+\\sum_{k=0}^{\\frac{3n-26}{8}}\\left(2^{14+7k}+2^{13+7k}+2^{12+7k}+2^{9+7k}\\right)+2^{7}+2^{6}+2^{5}+2^{2}+2^{0}$$\n",
    "\n",
    "Or, equivalently:\n",
    "\n",
    "$$a(n)=25\\times2^{\\frac{21n-54}{8}}+29184\\sum_{k=0}^{\\frac{3n-26}{8}}\\left(2^{7k}\\right)+229$$"
   ]
  },
  {
   "cell_type": "code",
   "execution_count": 11,
   "metadata": {},
   "outputs": [],
   "source": [
    "def g6(index):\n",
    "    S = 0\n",
    "    for i in range(int((3*index-26)/8)+1):\n",
    "        S = S + 2**(7*i)\n",
    "    S = 25*(2**(int((21*index-54)/8))) + 29184*S + 229\n",
    "    return(S)"
   ]
  },
  {
   "cell_type": "code",
   "execution_count": 12,
   "metadata": {},
   "outputs": [
    {
     "name": "stdout",
     "output_type": "stream",
     "text": [
      "13029\n",
      "27325461221\n",
      "57305645652210405\n"
     ]
    }
   ],
   "source": [
    "print(g6(6))\n",
    "print(g6(14))\n",
    "print(g6(22))"
   ]
  },
  {
   "cell_type": "markdown",
   "metadata": {},
   "source": [
    "## For n = 7 (mod 8):\n",
    "\n",
    "a(n) has the run length form 123112..(3112)..31123 where the parenthetic run lengths occur, when they occur, in multiples of 3.\n",
    "\n",
    "This corresponds to the binary number form 1001110100..(1110100)..1110100111.\n",
    "\n",
    "So, a(7) = 10011101001110100111 [base 2] = 644007 [base 10] and a(15) = 10011101001110100111010011101001110100111 [base 2] = 1350581212071 [base 10]\n",
    "\n",
    "Generally, when $n=7$ $(mod$ $8)$ and $n\\geq15$, it follows that:\n",
    "\n",
    "$$a(n)=2^{\\frac{21n+5}{8}}+2^{\\frac{21n-19}{8}}+2^{\\frac{21n-27}{8}}+2^{\\frac{21n-35}{8}}+2^{\\frac{21n-51}{8}}+\\sum_{k=0}^{\\frac{3n-29}{8}}\\left(2^{16+7k}+2^{15+7k}+2^{14+7k}+2^{12+7k}\\right)+2^{9}+2^{8}+2^{7}+2^{5}+2^{2}+2^{1}+2^{0}$$\n",
    "\n",
    "Or, equivalently:\n",
    "\n",
    "$$a(n)=157\\times2^{\\frac{21n-51}{8}}+118784\\sum_{k=0}^{\\frac{3n-29}{8}}\\left(2^{7k}\\right)+935$$"
   ]
  },
  {
   "cell_type": "code",
   "execution_count": 13,
   "metadata": {},
   "outputs": [],
   "source": [
    "def g7(index):\n",
    "    S = 0\n",
    "    for i in range(int((3*index-29)/8)+1):\n",
    "        S = S + 2**(7*i)\n",
    "    S = 157*(2**(int((21*index-51)/8))) + 118784*S + 935\n",
    "    return(S)"
   ]
  },
  {
   "cell_type": "code",
   "execution_count": 14,
   "metadata": {},
   "outputs": [
    {
     "name": "stdout",
     "output_type": "stream",
     "text": [
      "644007\n",
      "1350581212071\n",
      "2832374090057765799\n"
     ]
    }
   ],
   "source": [
    "print(g7(7))\n",
    "print(g7(15))\n",
    "print(g7(23))"
   ]
  },
  {
   "cell_type": "markdown",
   "metadata": {},
   "source": [
    "## For n = 0 (mod 8):\n",
    "\n",
    "a(n) has the run length form 32113..(2113)..211321 where the parenthetic run lengths occur, when they occur, in multiples of 3.\n",
    "\n",
    "This corresponds to the binary number form 1110010111..(0010111)..0010111001.\n",
    "\n",
    "So, a(8) = 11100101110010111001 [base 2] = 941241 [base 10] and a(16) = 11100101110010111001011100101110010111001 [base 2] = 1973926386873 [base 10]\n",
    "\n",
    "Generally, when $n=0$ $(mod$ $8)$ and $n\\geq16$, it follows that:\n",
    "\n",
    "$$a(n)=2^{\\frac{21n-16}{8}}+2^{\\frac{21n-24}{8}}+2^{\\frac{21n-32}{8}}+2^{\\frac{21n-56}{8}}+2^{\\frac{21n-72}{8}}+2^{\\frac{21n-80}{8}}+2^{\\frac{21n-88}{8}}+\\sum_{k=0}^{\\frac{3n-32}{8}}\\left(2^{14+7k}+2^{12+7k}+2^{11+7k}+2^{10+7k}\\right)+2^{7}+2^{5}+2^{4}+2^{3}+2^{0}$$\n",
    "\n",
    "Or, equivalently:\n",
    "\n",
    "$$a(n)=919\\times2^{\\frac{21n-88}{8}}+23552\\sum_{k=0}^{\\frac{3n-32}{8}}\\left(2^{7k}\\right)+185$$"
   ]
  },
  {
   "cell_type": "code",
   "execution_count": 15,
   "metadata": {},
   "outputs": [],
   "source": [
    "def g8(index):\n",
    "    S = 0\n",
    "    for i in range(int((3*index-32)/8)+1):\n",
    "        S = S + 2**(7*i)\n",
    "    S = 919*(2**(int((21*index-88)/8))) + 23552*S + 185\n",
    "    return(S)"
   ]
  },
  {
   "cell_type": "code",
   "execution_count": 16,
   "metadata": {},
   "outputs": [
    {
     "name": "stdout",
     "output_type": "stream",
     "text": [
      "941241\n",
      "1973926386873\n",
      "4139623670084426937\n"
     ]
    }
   ],
   "source": [
    "print(g8(8))\n",
    "print(g8(16))\n",
    "print(g8(24))"
   ]
  },
  {
   "cell_type": "markdown",
   "metadata": {},
   "source": [
    "## For all n:"
   ]
  },
  {
   "cell_type": "code",
   "execution_count": 17,
   "metadata": {},
   "outputs": [],
   "source": [
    "def f(maxindex): # choose a maxindex divisible by 8\n",
    "    A = []\n",
    "    i = 1\n",
    "    while i+7 <= maxindex:\n",
    "        A.append(g1(i))\n",
    "        A.append(g2(i+1))\n",
    "        A.append(g3(i+2))\n",
    "        A.append(g4(i+3))\n",
    "        A.append(g5(i+4))\n",
    "        A.append(g6(i+5))\n",
    "        A.append(g7(i+6))\n",
    "        A.append(g8(i+7))\n",
    "        i = i + 8\n",
    "    return(A)"
   ]
  },
  {
   "cell_type": "code",
   "execution_count": 18,
   "metadata": {},
   "outputs": [
    {
     "name": "stdout",
     "output_type": "stream",
     "text": [
      "True\n"
     ]
    }
   ],
   "source": [
    "# Checking first few terms of A334931\n",
    "print(f(24) == [151,233,1483,1693,10707,13029,644007,941241,\n",
    " 317049751,490370281,3111314891,3550957213,\n",
    " 22455577043,27325461221,1350581212071,\n",
    " 1973926386873,664901519788951,1028381017273577,\n",
    " 6524900247528907,7446897021636253,\n",
    " 47092758308252115,57305645652210405,2832374090057765799,4139623670084426937])"
   ]
  },
  {
   "cell_type": "markdown",
   "metadata": {},
   "source": [
    "## Finding a generating function:\n",
    "\n",
    "Define:\n",
    "\n",
    "$$G(x)=s_{1}(x)+s_{2}(x)+s_{3}(x)+s_{4}(x)+s_{5}(x)+s_{6}(x)+s_{7}(x)+s_{8}(x)$$"
   ]
  },
  {
   "cell_type": "markdown",
   "metadata": {},
   "source": [
    "Where:\n",
    "\n",
    "$$s_{1}(x)=151x+\\sum_{n=1}^{\\infty} a(1+8n)x^{1+8n}$$"
   ]
  },
  {
   "cell_type": "markdown",
   "metadata": {},
   "source": [
    "$$s_{2}(x)=233x^{2}+\\sum_{n=1}^{\\infty} a(2+8n)x^{2+8n}$$"
   ]
  },
  {
   "cell_type": "markdown",
   "metadata": {},
   "source": [
    "$$s_{3}(x)=1483x^{3}+\\sum_{n=1}^{\\infty} a(3+8n)x^{3+8n}$$"
   ]
  },
  {
   "cell_type": "markdown",
   "metadata": {},
   "source": [
    "$$s_{4}(x)=1693x^{4}+\\sum_{n=1}^{\\infty} a(4+8n)x^{4+8n}$$"
   ]
  },
  {
   "cell_type": "markdown",
   "metadata": {},
   "source": [
    "$$s_{5}(x)=10707x^{5}+\\sum_{n=1}^{\\infty} a(5+8n)x^{5+8n}$$"
   ]
  },
  {
   "cell_type": "markdown",
   "metadata": {},
   "source": [
    "$$s_{6}(x)=13029x^{6}+\\sum_{n=1}^{\\infty} a(6+8n)x^{6+8n}$$"
   ]
  },
  {
   "cell_type": "markdown",
   "metadata": {},
   "source": [
    "$$s_{7}(x)=644007x^{7}+\\sum_{n=1}^{\\infty} a(7+8n)x^{7+8n}$$"
   ]
  },
  {
   "cell_type": "markdown",
   "metadata": {},
   "source": [
    "$$s_{8}(x)=941241x^{8}+\\sum_{n=1}^{\\infty} a(8+8n)x^{8+8n}$$"
   ]
  },
  {
   "cell_type": "markdown",
   "metadata": {},
   "source": [
    "Considering that for all $n\\in\\mathbb{N}$:\n",
    "\n",
    "$$a(1+8n)=2^{21n+7}+2944\\sum_{k=0}^{3n-1}\\left(2^{7k}\\right)+23=2^{21n+7}+48614272\\sum_{k=0}^{n-1}\\left(2^{21k}\\right)+23$$"
   ]
  },
  {
   "cell_type": "markdown",
   "metadata": {},
   "source": [
    "$$a(2+8n)=29\\times2^{21n+3}+232\\sum_{k=0}^{3n-1}\\left(2^{7k}\\right)+1=29\\times2^{21n+3}+3831016\\sum_{k=0}^{n-1}\\left(2^{21k}\\right)+1$$"
   ]
  },
  {
   "cell_type": "markdown",
   "metadata": {},
   "source": [
    "$$a(3+8n)=23\\times2^{21n+6}+1472\\sum_{k=0}^{3n-1}\\left(2^{7k}\\right)+11=23\\times2^{21n+6}+24307136\\sum_{k=0}^{n-1}\\left(2^{21k}\\right)+11$$"
   ]
  },
  {
   "cell_type": "markdown",
   "metadata": {},
   "source": [
    "$$a(4+8n)=13\\times2^{21n+7}+3712\\sum_{k=0}^{3n-1}\\left(2^{7k}\\right)+29=13\\times2^{21n+7}+61296256\\sum_{k=0}^{n-1}\\left(2^{21k}\\right)+29$$"
   ]
  },
  {
   "cell_type": "markdown",
   "metadata": {},
   "source": [
    "$$a(5+8n)=167\\times2^{21n+6}+2496\\sum_{k=0}^{3n-1}\\left(2^{7k}\\right)+19=167\\times2^{21n+6}+41216448\\sum_{k=0}^{n-1}\\left(2^{21k}\\right)+19$$"
   ]
  },
  {
   "cell_type": "markdown",
   "metadata": {},
   "source": [
    "$$a(6+8n)=25\\times2^{21n+9}+29184\\sum_{k=0}^{3n-1}\\left(2^{7k}\\right)+229=25\\times2^{21n+9}+481915392\\sum_{k=0}^{n-1}\\left(2^{21k}\\right)+229$$"
   ]
  },
  {
   "cell_type": "markdown",
   "metadata": {},
   "source": [
    "$$a(7+8n)=157\\times2^{21n+12}+118784\\sum_{k=0}^{3n-1}\\left(2^{7k}\\right)+935=157\\times2^{21n+12}+1961480192\\sum_{k=0}^{n-1}\\left(2^{21k}\\right)+935$$"
   ]
  },
  {
   "cell_type": "markdown",
   "metadata": {},
   "source": [
    "$$a(8+8n)=919\\times2^{21n+10}+23552\\sum_{k=0}^{3n-1}\\left(2^{7k}\\right)+185=919\\times2^{21n+10}+388914176\\sum_{k=0}^{n-1}\\left(2^{21k}\\right)+185$$"
   ]
  },
  {
   "cell_type": "markdown",
   "metadata": {},
   "source": [
    "It follows that:\n",
    "\n",
    "$$s_{1}(x)=151x+\\sum_{n=1}^{\\infty} \\left(2^{21n+7}+48614272\\sum_{k=0}^{n-1}\\left(2^{21k}\\right)+23\\right)x^{1+8n}$$"
   ]
  },
  {
   "cell_type": "markdown",
   "metadata": {},
   "source": [
    "$$s_{2}(x)=233x^{2}+\\sum_{n=1}^{\\infty} \\left(29\\times2^{21n+3}+3831016\\sum_{k=0}^{n-1}\\left(2^{21k}\\right)+1\\right)x^{2+8n}$$"
   ]
  },
  {
   "cell_type": "markdown",
   "metadata": {},
   "source": [
    "$$s_{3}(x)=1483x^{3}+\\sum_{n=1}^{\\infty} \\left(23\\times2^{21n+6}+24307136\\sum_{k=0}^{n-1}\\left(2^{21k}\\right)+11\\right)x^{3+8n}$$"
   ]
  },
  {
   "cell_type": "markdown",
   "metadata": {},
   "source": [
    "$$s_{4}(x)=1693x^{4}+\\sum_{n=1}^{\\infty} \\left(13\\times2^{21n+7}+61296256\\sum_{k=0}^{n-1}\\left(2^{21k}\\right)+29\\right)x^{4+8n}$$"
   ]
  },
  {
   "cell_type": "markdown",
   "metadata": {},
   "source": [
    "$$s_{5}(x)=10707x^{5}+\\sum_{n=1}^{\\infty} \\left(167\\times2^{21n+6}+41216448\\sum_{k=0}^{n-1}\\left(2^{21k}\\right)+19\\right)x^{5+8n}$$"
   ]
  },
  {
   "cell_type": "markdown",
   "metadata": {},
   "source": [
    "$$s_{6}(x)=13029x^{6}+\\sum_{n=1}^{\\infty} \\left(25\\times2^{21n+9}+481915392\\sum_{k=0}^{n-1}\\left(2^{21k}\\right)+229\\right)x^{6+8n}$$"
   ]
  },
  {
   "cell_type": "markdown",
   "metadata": {},
   "source": [
    "$$s_{7}(x)=644007x^{7}+\\sum_{n=1}^{\\infty} \\left(157\\times2^{21n+12}+1961480192\\sum_{k=0}^{n-1}\\left(2^{21k}\\right)+935\\right)x^{7+8n}$$"
   ]
  },
  {
   "cell_type": "markdown",
   "metadata": {},
   "source": [
    "$$s_{8}(x)=941241x^{8}+\\sum_{n=1}^{\\infty} \\left(919\\times2^{21n+10}+388914176\\sum_{k=0}^{n-1}\\left(2^{21k}\\right)+185\\right)x^{8+8n}$$"
   ]
  },
  {
   "cell_type": "markdown",
   "metadata": {},
   "source": [
    "Furthermore, since:\n",
    "\n",
    "$$x\\sum_{n=1}^{\\infty} 2^{21n+7}x^{8n} = 128x\\sum_{n=1}^{\\infty} 2^{21n}x^{8n} = 128x\\left(\\frac{1}{1-2097152x^{8}}-1\\right) = \\frac{268435456x^{9}}{1-2097152x^{8}}$$"
   ]
  },
  {
   "cell_type": "markdown",
   "metadata": {},
   "source": [
    "$$29x^{2}\\sum_{n=1}^{\\infty} 2^{21n+3}x^{8n} = 232x^{2}\\sum_{n=1}^{\\infty} 2^{21n}x^{8n} = 232x^{2}\\left(\\frac{1}{1-2097152x^{8}}-1\\right) = \\frac{486539264x^{10}}{1-2097152x^{8}}$$"
   ]
  },
  {
   "cell_type": "markdown",
   "metadata": {},
   "source": [
    "$$23x^{3}\\sum_{n=1}^{\\infty} 2^{21n+6}x^{8n} = 1472x^{3}\\sum_{n=1}^{\\infty} 2^{21n}x^{8n} = 1472x^{3}\\left(\\frac{1}{1-2097152x^{8}}-1\\right) = \\frac{3087007744x^{11}}{1-2097152x^{8}}$$"
   ]
  },
  {
   "cell_type": "markdown",
   "metadata": {},
   "source": [
    "$$13x^{4}\\sum_{n=1}^{\\infty} 2^{21n+7}x^{8n} = 1664x^{4}\\sum_{n=1}^{\\infty} 2^{21n}x^{8n} = 1664x^{4}\\left(\\frac{1}{1-2097152x^{8}}-1\\right) = \\frac{3489660928x^{12}}{1-2097152x^{8}}$$"
   ]
  },
  {
   "cell_type": "markdown",
   "metadata": {},
   "source": [
    "$$167x^{5}\\sum_{n=1}^{\\infty} 2^{21n+6}x^{8n} = 10688x^{5}\\sum_{n=1}^{\\infty} 2^{21n}x^{8n} = 10688x^{5}\\left(\\frac{1}{1-2097152x^{8}}-1\\right) = \\frac{22414360576x^{13}}{1-2097152x^{8}}$$"
   ]
  },
  {
   "cell_type": "markdown",
   "metadata": {},
   "source": [
    "$$25x^{6}\\sum_{n=1}^{\\infty} 2^{21n+9}x^{8n} = 12800x^{6}\\sum_{n=1}^{\\infty} 2^{21n}x^{8n} = 12800x^{6}\\left(\\frac{1}{1-2097152x^{8}}-1\\right) = \\frac{26843545600x^{14}}{1-2097152x^{8}}$$"
   ]
  },
  {
   "cell_type": "markdown",
   "metadata": {},
   "source": [
    "$$157x^{7}\\sum_{n=1}^{\\infty} 2^{21n+12}x^{8n} = 643072x^{7}\\sum_{n=1}^{\\infty} 2^{21n}x^{8n} = 643072x^{7}\\left(\\frac{1}{1-2097152x^{8}}-1\\right) = \\frac{1348619730944x^{15}}{1-2097152x^{8}}$$"
   ]
  },
  {
   "cell_type": "markdown",
   "metadata": {},
   "source": [
    "$$919x^{8}\\sum_{n=1}^{\\infty} 2^{21n+10}x^{8n} = 941056x^{8}\\sum_{n=1}^{\\infty} 2^{21n}x^{8n} = 941056x^{8}\\left(\\frac{1}{1-2097152x^{8}}-1\\right) = \\frac{1973537472512x^{16}}{1-2097152x^{8}}$$"
   ]
  },
  {
   "cell_type": "markdown",
   "metadata": {},
   "source": [
    "$$\\scriptsize48614272x\\sum_{n=1}^{\\infty} \\left(\\sum_{k=0}^{n-1}2^{21k}\\right)x^{8n} = \\frac{48614272x}{2097151}\\sum_{n=1}^{\\infty}\\left(2^{21n}-1\\right)x^{8n} = \\frac{48614272x}{2097151}\\left(\\frac{1}{1-2097152x^{8}}-\\frac{1}{1-x^{8}}\\right) = \\frac{48614272x}{2097151-4398044413952x^{8}}-\\frac{48614272x}{2097151-2097151x^{8}}$$"
   ]
  },
  {
   "cell_type": "markdown",
   "metadata": {},
   "source": [
    "$$\\scriptsize3831016x^{2}\\sum_{n=1}^{\\infty} \\left(\\sum_{k=0}^{n-1}2^{21k}\\right)x^{8n} = \\frac{3831016x^{2}}{2097151}\\sum_{n=1}^{\\infty}\\left(2^{21n}-1\\right)x^{8n} = \\frac{3831016x^{2}}{2097151}\\left(\\frac{1}{1-2097152x^{8}}-\\frac{1}{1-x^{8}}\\right) = \\frac{3831016x^{2}}{2097151-4398044413952x^{8}}-\\frac{3831016x^{2}}{2097151-2097151x^{8}}$$"
   ]
  },
  {
   "cell_type": "markdown",
   "metadata": {},
   "source": [
    "$$\\scriptsize24307136x^{3}\\sum_{n=1}^{\\infty} \\left(\\sum_{k=0}^{n-1}2^{21k}\\right)x^{8n} = \\frac{24307136x^{3}}{2097151}\\sum_{n=1}^{\\infty}\\left(2^{21n}-1\\right)x^{8n} = \\frac{24307136x^{3}}{2097151}\\left(\\frac{1}{1-2097152x^{8}}-\\frac{1}{1-x^{8}}\\right) = \\frac{24307136x^{3}}{2097151-4398044413952x^{8}}-\\frac{24307136x^{3}}{2097151-2097151x^{8}}$$"
   ]
  },
  {
   "cell_type": "markdown",
   "metadata": {},
   "source": [
    "$$\\scriptsize61296256x^{4}\\sum_{n=1}^{\\infty} \\left(\\sum_{k=0}^{n-1}2^{21k}\\right)x^{8n} = \\frac{61296256x^{4}}{2097151}\\sum_{n=1}^{\\infty}\\left(2^{21n}-1\\right)x^{8n} = \\frac{61296256x^{4}}{2097151}\\left(\\frac{1}{1-2097152x^{8}}-\\frac{1}{1-x^{8}}\\right) = \\frac{61296256x^{4}}{2097151-4398044413952x^{8}}-\\frac{61296256x^{4}}{2097151-2097151x^{8}}$$"
   ]
  },
  {
   "cell_type": "markdown",
   "metadata": {},
   "source": [
    "$$\\scriptsize41216448x^{5}\\sum_{n=1}^{\\infty} \\left(\\sum_{k=0}^{n-1}2^{21k}\\right)x^{8n} = \\frac{41216448x^{5}}{2097151}\\sum_{n=1}^{\\infty}\\left(2^{21n}-1\\right)x^{8n} = \\frac{41216448x^{5}}{2097151}\\left(\\frac{1}{1-2097152x^{8}}-\\frac{1}{1-x^{8}}\\right) = \\frac{41216448x^{5}}{2097151-4398044413952x^{8}}-\\frac{41216448x^{5}}{2097151-2097151x^{8}}$$"
   ]
  },
  {
   "cell_type": "markdown",
   "metadata": {},
   "source": [
    "$$\\scriptsize481915392x^{6}\\sum_{n=1}^{\\infty} \\left(\\sum_{k=0}^{n-1}2^{21k}\\right)x^{8n} = \\frac{481915392x^{6}}{2097151}\\sum_{n=1}^{\\infty}\\left(2^{21n}-1\\right)x^{8n} = \\frac{481915392x^{6}}{2097151}\\left(\\frac{1}{1-2097152x^{8}}-\\frac{1}{1-x^{8}}\\right) = \\frac{481915392x^{6}}{2097151-4398044413952x^{8}}-\\frac{481915392x^{6}}{2097151-2097151x^{8}}$$"
   ]
  },
  {
   "cell_type": "markdown",
   "metadata": {},
   "source": [
    "$$\\scriptsize1961480192x^{7}\\sum_{n=1}^{\\infty} \\left(\\sum_{k=0}^{n-1}2^{21k}\\right)x^{8n} = \\frac{1961480192x^{7}}{2097151}\\sum_{n=1}^{\\infty}\\left(2^{21n}-1\\right)x^{8n} = \\frac{1961480192x^{7}}{2097151}\\left(\\frac{1}{1-2097152x^{8}}-\\frac{1}{1-x^{8}}\\right) = \\frac{1961480192x^{7}}{2097151-4398044413952x^{8}}-\\frac{1961480192x^{7}}{2097151-2097151x^{8}}$$"
   ]
  },
  {
   "cell_type": "markdown",
   "metadata": {},
   "source": [
    "$$\\scriptsize388914176x^{8}\\sum_{n=1}^{\\infty} \\left(\\sum_{k=0}^{n-1}2^{21k}\\right)x^{8n} = \\frac{388914176x^{8}}{2097151}\\sum_{n=1}^{\\infty}\\left(2^{21n}-1\\right)x^{8n} = \\frac{388914176x^{8}}{2097151}\\left(\\frac{1}{1-2097152x^{8}}-\\frac{1}{1-x^{8}}\\right) = \\frac{388914176x^{8}}{2097151-4398044413952x^{8}}-\\frac{388914176x^{8}}{2097151-2097151x^{8}}$$"
   ]
  },
  {
   "cell_type": "markdown",
   "metadata": {},
   "source": [
    "$$23x\\sum_{n=1}^{\\infty} x^{8n} = 23x\\left(\\frac{1}{1-x^{8}}-1\\right) = \\frac{23x^{9}}{1-x^{8}}$$"
   ]
  },
  {
   "cell_type": "markdown",
   "metadata": {},
   "source": [
    "$$x^{2}\\sum_{n=1}^{\\infty} x^{8n} = x^{2}\\left(\\frac{1}{1-x^{8}}-1\\right) = \\frac{x^{10}}{1-x^{8}}$$"
   ]
  },
  {
   "cell_type": "markdown",
   "metadata": {},
   "source": [
    "$$11x^{3}\\sum_{n=1}^{\\infty} x^{8n} = 11x^{3}\\left(\\frac{1}{1-x^{8}}-1\\right) = \\frac{11x^{11}}{1-x^{8}}$$"
   ]
  },
  {
   "cell_type": "markdown",
   "metadata": {},
   "source": [
    "$$29x^{4}\\sum_{n=1}^{\\infty} x^{8n} = 29x^{4}\\left(\\frac{1}{1-x^{8}}-1\\right) = \\frac{29x^{12}}{1-x^{8}}$$"
   ]
  },
  {
   "cell_type": "markdown",
   "metadata": {},
   "source": [
    "$$19x^{5}\\sum_{n=1}^{\\infty} x^{8n} = 19x^{5}\\left(\\frac{1}{1-x^{8}}-1\\right) = \\frac{19x^{13}}{1-x^{8}}$$"
   ]
  },
  {
   "cell_type": "markdown",
   "metadata": {},
   "source": [
    "$$229x^{6}\\sum_{n=1}^{\\infty} x^{8n} = 229x^{6}\\left(\\frac{1}{1-x^{8}}-1\\right) = \\frac{229x^{14}}{1-x^{8}}$$"
   ]
  },
  {
   "cell_type": "markdown",
   "metadata": {},
   "source": [
    "$$935x^{7}\\sum_{n=1}^{\\infty} x^{8n} = 935x^{7}\\left(\\frac{1}{1-x^{8}}-1\\right) = \\frac{935x^{15}}{1-x^{8}}$$"
   ]
  },
  {
   "cell_type": "markdown",
   "metadata": {},
   "source": [
    "$$185x^{8}\\sum_{n=1}^{\\infty} x^{8n} = 185x^{8}\\left(\\frac{1}{1-x^{8}}-1\\right) = \\frac{185x^{16}}{1-x^{8}}$$"
   ]
  },
  {
   "cell_type": "markdown",
   "metadata": {},
   "source": [
    "It follows that:\n",
    "\n",
    "$$s_{1}(x)=151x+\\frac{268435456x^{9}}{1-2097152x^{8}}+\\frac{48614272x}{2097151-4398044413952x^{8}}-\\frac{48614272x}{2097151-2097151x^{8}}+\\frac{23x^{9}}{1-x^{8}}$$"
   ]
  },
  {
   "cell_type": "markdown",
   "metadata": {},
   "source": [
    "$$s_{2}(x)=233x^{2}+\\frac{486539264x^{10}}{1-2097152x^{8}}+\\frac{3831016x^{2}}{2097151-4398044413952x^{8}}-\\frac{3831016x^{2}}{2097151-2097151x^{8}}+\\frac{x^{10}}{1-x^{8}}$$"
   ]
  },
  {
   "cell_type": "markdown",
   "metadata": {},
   "source": [
    "$$s_{3}(x)=1483x^{3}+\\frac{3087007744x^{11}}{1-2097152x^{8}}+\\frac{24307136x^{3}}{2097151-4398044413952x^{8}}-\\frac{24307136x^{3}}{2097151-2097151x^{8}}+\\frac{11x^{11}}{1-x^{8}}$$"
   ]
  },
  {
   "cell_type": "markdown",
   "metadata": {},
   "source": [
    "$$s_{4}(x)=1693x^{4}+\\frac{3489660928x^{12}}{1-2097152x^{8}}+\\frac{61296256x^{4}}{2097151-4398044413952x^{8}}-\\frac{61296256x^{4}}{2097151-2097151x^{8}}+\\frac{29x^{12}}{1-x^{8}}$$"
   ]
  },
  {
   "cell_type": "markdown",
   "metadata": {},
   "source": [
    "$$s_{5}(x)=10707x^{5}+\\frac{22414360576x^{13}}{1-2097152x^{8}}+\\frac{41216448x^{5}}{2097151-4398044413952x^{8}}-\\frac{41216448x^{5}}{2097151-2097151x^{8}}+\\frac{19x^{13}}{1-x^{8}}$$"
   ]
  },
  {
   "cell_type": "markdown",
   "metadata": {},
   "source": [
    "$$s_{6}(x)=13029x^{6}+\\frac{26843545600x^{14}}{1-2097152x^{8}}+\\frac{481915392x^{6}}{2097151-4398044413952x^{8}}-\\frac{481915392x^{6}}{2097151-2097151x^{8}}+\\frac{229x^{14}}{1-x^{8}}$$"
   ]
  },
  {
   "cell_type": "markdown",
   "metadata": {},
   "source": [
    "$$s_{7}(x)=644007x^{7}+\\frac{1348619730944x^{15}}{1-2097152x^{8}}+\\frac{1961480192x^{7}}{2097151-4398044413952x^{8}}-\\frac{1961480192x^{7}}{2097151-2097151x^{8}}+\\frac{935x^{15}}{1-x^{8}}$$"
   ]
  },
  {
   "cell_type": "markdown",
   "metadata": {},
   "source": [
    "$$s_{8}(x)=941241x^{8}+\\frac{1973537472512x^{16}}{1-2097152x^{8}}+\\frac{388914176x^{8}}{2097151-4398044413952x^{8}}-\\frac{388914176x^{8}}{2097151-2097151x^{8}}+\\frac{185x^{16}}{1-x^{8}}$$"
   ]
  },
  {
   "cell_type": "markdown",
   "metadata": {},
   "source": [
    "Therefore:\n",
    "\n",
    "$$\\scriptsize G(x)=151x+233x^{2}+1483x^{3}+1693x^{4}+10707x^{5}+13029x^{6}+644007x^{7}+941241x^{8}$$"
   ]
  },
  {
   "cell_type": "markdown",
   "metadata": {},
   "source": [
    "$$\\scriptsize +\\frac{268435456x^{9}+486539264x^{10}+3087007744x^{11}+3489660928x^{12}+22414360576x^{13}+26843545600x^{14}+1348619730944x^{15}+1973537472512x^{16}}{1-2097152x^{8}}$$"
   ]
  },
  {
   "cell_type": "markdown",
   "metadata": {},
   "source": [
    "$$\\scriptsize +\\frac{48614272x+3831016x^{2}+24307136x^{3}+61296256x^{4}+41216448x^{5}+481915392x^{6}+1961480192x^{7}+388914176x^{8}}{2097151-4398044413952x^{8}}$$"
   ]
  },
  {
   "cell_type": "markdown",
   "metadata": {},
   "source": [
    "$$\\scriptsize -\\frac{48614272x+3831016x^{2}+24307136x^{3}+61296256x^{4}+41216448x^{5}+481915392x^{6}+1961480192x^{7}+388914176x^{8}}{2097151-2097151x^{8}}$$"
   ]
  },
  {
   "cell_type": "markdown",
   "metadata": {},
   "source": [
    "$$\\scriptsize +\\frac{23x^{9}+x^{10}+11x^{11}+29x^{12}+19x^{13}+229x^{14}+935x^{15}+185x^{16}}{1-x^{8}}$$"
   ]
  }
 ],
 "metadata": {
  "kernelspec": {
   "display_name": "Python 3",
   "language": "python",
   "name": "python3"
  },
  "language_info": {
   "codemirror_mode": {
    "name": "ipython",
    "version": 3
   },
   "file_extension": ".py",
   "mimetype": "text/x-python",
   "name": "python",
   "nbconvert_exporter": "python",
   "pygments_lexer": "ipython3",
   "version": "3.7.6"
  }
 },
 "nbformat": 4,
 "nbformat_minor": 4
}
