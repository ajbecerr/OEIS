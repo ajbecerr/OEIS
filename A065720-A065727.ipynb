{
 "cells": [
  {
   "cell_type": "markdown",
   "metadata": {},
   "source": [
    "Primes whose representation in base $2 \\leq n \\leq 9$ is also the decimal representation of a prime."
   ]
  },
  {
   "cell_type": "code",
   "execution_count": 1,
   "metadata": {},
   "outputs": [],
   "source": [
    "def isprime(x):\n",
    "    if x == 1:\n",
    "        return False\n",
    "    else:\n",
    "        for i in range(2, int((x)**(1/2))+1):\n",
    "            if x % i == 0:\n",
    "                return False\n",
    "        else:\n",
    "            return True\n",
    "    \n",
    "def base10(x, oldbase):\n",
    "    y = 0\n",
    "    for i in range(len(x)):\n",
    "        y = y + int(x[i])*oldbase**(len(x)-i-1)\n",
    "    return(y)\n",
    "\n",
    "def add1(x, base):\n",
    "    if len(x) == 0:\n",
    "        x = '1'\n",
    "    else:\n",
    "        if int(x[len(x)-1]) + 1 == base:\n",
    "            x = add1(x[:len(x)-1], base) + '0'\n",
    "        else:\n",
    "            x = str(int(x) + 1)\n",
    "    return(x)\n",
    "\n",
    "def f(maxdigits, base):\n",
    "    A = []\n",
    "    z = '1'\n",
    "    while len(str(base10(z, base))) <= maxdigits:\n",
    "        if isprime(int(z)):\n",
    "            if isprime(base10(z, base)):\n",
    "                A.append(int(base10(z, base)))\n",
    "        z = add1(z, base)\n",
    "    return(A)"
   ]
  },
  {
   "cell_type": "code",
   "execution_count": 2,
   "metadata": {},
   "outputs": [
    {
     "name": "stdout",
     "output_type": "stream",
     "text": [
      "True\n",
      "True\n",
      "True\n",
      "True\n",
      "True\n",
      "True\n",
      "True\n",
      "True\n"
     ]
    }
   ],
   "source": [
    "# Checking first few terms of A065720\n",
    "print(f(3, 2) == [3,5,23,47,89,101,149,157,163,173,179,199,229,313,\n",
    " 331,367,379,383,443,457,523,587,631,643,647,653,\n",
    " 659,709,883,947,997])\n",
    "\n",
    "# Checking first few terms of A065721\n",
    "print(f(3, 3) == [2,67,79,103,139,157,181,193,199,211,229,277,283,\n",
    " 307,313,349,367,373,409,421,433,439,463,523,541,\n",
    " 547,571,577,751,829,883,919])\n",
    "\n",
    "# Checking first few terms of A065722\n",
    "print(f(2, 4) == [2,3,5,7,11,13,17,19,23,29,37,43,47,53,61,71,73,\n",
    " 79,83,97])\n",
    "\n",
    "# Checking first few terms of A065723\n",
    "print(f(3, 5) == [2,3,13,23,41,71,83,101,163,191,211,281,283,311,\n",
    " 331,463,503,571,613,653,701,743,823,863,881,983])\n",
    "\n",
    "# Checking first few terms of A065724\n",
    "print(f(3, 6) == [2,3,5,7,19,37,67,79,97,103,127,157,163,193,229,\n",
    " 283,307,337,439,487,547,571,601,631,643,673,733,\n",
    " 751,757,853,877,907,937])\n",
    "\n",
    "# Checking first few terms of A065725\n",
    "print(f(3, 7) == [2,3,5,17,29,31,43,59,71,127,157,197,211,227,239,\n",
    " 241,337,353,367,379,409,463,491,563,577,619,647,\n",
    " 743,757,773,787,857,911,953,967])\n",
    "\n",
    "# Checking first few terms of A065726\n",
    "print(f(3, 8) == [2,3,5,7,11,19,31,43,59,67,71,89,137,151,179,191,\n",
    " 199,223,251,257,281,283,307,311,337,353,359,367,\n",
    " 383,409,419,433,443,449,523,563,617,619,641,659,\n",
    " 727,787,809,811,857,887,907,919,947,977])\n",
    "\n",
    "# Checking first few terms of A065727\n",
    "print(f(3, 9) == [2,3,5,7,37,43,61,109,127,199,271,277,379,457,487,\n",
    " 523,541,613,619,673,727,757,883,907,919,991,997])"
   ]
  },
  {
   "cell_type": "code",
   "execution_count": null,
   "metadata": {},
   "outputs": [],
   "source": []
  }
 ],
 "metadata": {
  "kernelspec": {
   "display_name": "Python 3",
   "language": "python",
   "name": "python3"
  },
  "language_info": {
   "codemirror_mode": {
    "name": "ipython",
    "version": 3
   },
   "file_extension": ".py",
   "mimetype": "text/x-python",
   "name": "python",
   "nbconvert_exporter": "python",
   "pygments_lexer": "ipython3",
   "version": "3.7.6"
  }
 },
 "nbformat": 4,
 "nbformat_minor": 4
}
