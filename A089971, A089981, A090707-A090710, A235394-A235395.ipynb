{
 "cells": [
  {
   "cell_type": "markdown",
   "metadata": {},
   "source": [
    "Primes whose decimal representation is a valid number in base $2 \\leq n \\leq 9$ and interpreted as such is again a prime."
   ]
  },
  {
   "cell_type": "code",
   "execution_count": 1,
   "metadata": {},
   "outputs": [],
   "source": [
    "def isprime(x):\n",
    "    if x == 1:\n",
    "        return False\n",
    "    else:\n",
    "        for i in range(2, int((x)**(1/2))+1):\n",
    "            if x % i == 0:\n",
    "                return False\n",
    "        else:\n",
    "            return True\n",
    "    \n",
    "def base10(x, oldbase):\n",
    "    y = 0\n",
    "    for i in range(len(x)):\n",
    "        y = y + int(x[i])*oldbase**(len(x)-i-1)\n",
    "    return(y)\n",
    "\n",
    "def add1(x, base):\n",
    "    if len(x) == 0:\n",
    "        x = '1'\n",
    "    else:\n",
    "        if int(x[len(x)-1]) + 1 == base:\n",
    "            x = add1(x[:len(x)-1], base) + '0'\n",
    "        else:\n",
    "            x = str(int(x) + 1)\n",
    "    return(x)\n",
    "\n",
    "def f(maxdigits, base):\n",
    "    A = []\n",
    "    z = '1'\n",
    "    while len(z) <= maxdigits:\n",
    "        if isprime(int(z)):\n",
    "            if isprime(base10(z, base)):\n",
    "                A.append(int(z))\n",
    "        z = add1(z, base)\n",
    "    return(A)"
   ]
  },
  {
   "cell_type": "code",
   "execution_count": 2,
   "metadata": {},
   "outputs": [
    {
     "name": "stdout",
     "output_type": "stream",
     "text": [
      "True\n",
      "True\n",
      "True\n",
      "True\n",
      "True\n",
      "True\n",
      "True\n",
      "True\n"
     ]
    }
   ],
   "source": [
    "# Checking first few terms of A089971\n",
    "print(f(9, 2) == [11,101,10111,101111,1011001,1100101,10010101,\n",
    " 10011101,10100011,10101101,10110011,11000111,\n",
    " 11100101,100111001,101001011,101101111,101111011,\n",
    " 101111111,110111011,111001001])\n",
    "\n",
    "# Checking first few terms of A089981\n",
    "print(f(6, 3) == [2,2111,2221,10211,12011,12211,20201,21011,21101,\n",
    " 21211,22111,101021,101111,102101,102121,110221,\n",
    " 111121,111211,120011,120121,121001,121021,122011,\n",
    " 201101,202001,202021,210011,210101])\n",
    "\n",
    "# Checking first few terms of A090707\n",
    "print(f(4, 4) == [2,3,11,13,23,31,101,103,113,131,211,223,233,311,\n",
    " 331,1013,1021,1033,1103,1201,1213,1223,1231,1301,\n",
    " 2003,2111,2113,2131,2203,2213,2311,2333,3001,3011,\n",
    " 3203,3221,3301,3323])\n",
    "\n",
    "# Checking first few terms of A090708\n",
    "print(f(4, 5) == [2,3,23,43,131,241,313,401,1123,1231,1321,2111,\n",
    " 2113,2221,2311,3323,4003,4241,4423])\n",
    "\n",
    "# Checking first few terms of A090709\n",
    "print(f(4, 6) == [2,3,5,11,31,101,151,211,241,251,331,421,431,521,\n",
    " 1021,1151,1231,1321,2011,2131,2311,2351,2441,2531,\n",
    " 2551,3041,3221,3251,3301,3541,4021,4111,4201,4421,\n",
    " 4441,4451,5011,5021,5101,5231,5441,5531])\n",
    "\n",
    "# Checking first few terms of A090710\n",
    "print(f(3, 7) == [2,3,5,23,41,43,61,113,131,241,313,401,421,443,\n",
    " 461,463,661])\n",
    "\n",
    "# Checking first few terms of A235394\n",
    "print(f(3, 8) == [2,3,5,7,13,23,37,53,73,103,107,131,211,227,263,\n",
    " 277,307,337,373,401,431,433,463,467,521,541,547,\n",
    " 557,577,631,643,661,673,701])\n",
    "\n",
    "# Checking first few terms of A235395\n",
    "print(f(3, 9) == [2,3,5,7,41,47,67,131,151,241,331,337,461,557,601,\n",
    " 641,661,751,757,827,887])"
   ]
  },
  {
   "cell_type": "code",
   "execution_count": null,
   "metadata": {},
   "outputs": [],
   "source": []
  }
 ],
 "metadata": {
  "kernelspec": {
   "display_name": "Python 3",
   "language": "python",
   "name": "python3"
  },
  "language_info": {
   "codemirror_mode": {
    "name": "ipython",
    "version": 3
   },
   "file_extension": ".py",
   "mimetype": "text/x-python",
   "name": "python",
   "nbconvert_exporter": "python",
   "pygments_lexer": "ipython3",
   "version": "3.7.6"
  }
 },
 "nbformat": 4,
 "nbformat_minor": 4
} 
