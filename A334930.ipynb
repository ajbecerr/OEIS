{
 "cells": [
  {
   "cell_type": "markdown",
   "metadata": {},
   "source": [
    "Numbers that generate rotationally symmetrical $XOR$-triangles featuring singleton zero bits in a hexagonal arrangement."
   ]
  },
  {
   "cell_type": "markdown",
   "metadata": {},
   "source": [
    "## Finding a recurrence relation:\n",
    "\n",
    "Since:\n",
    "\n",
    "$$\\scriptsize G(x)=\\frac{1 + 11x + 4x^{2} - 8x^{3}}{1 - 9x^{2} + 8x^{4}}$$\n",
    "\n",
    "Observe that $G(x)$ is of the form $\\frac{P(x)}{Q(x)}$ where the degree of the polynomial $Q(x)$ is greater than the degree of the polynomial $P(x)$. Additionally, observe that $0$ is not a root of $Q(x)$. Therefore, for all $n>4$:\n",
    "\n",
    "$$a\\left(n\\right)=9\\times a\\left(n-2\\right)-8\\times a\\left(n-4\\right)$$"
   ]
  },
  {
   "cell_type": "markdown",
   "metadata": {},
   "source": [
    "And:\n",
    "\n",
    "$$a\\left(1\\right)=1$$"
   ]
  },
  {
   "cell_type": "markdown",
   "metadata": {},
   "source": [
    "$$a\\left(2\\right)=11$$"
   ]
  },
  {
   "cell_type": "markdown",
   "metadata": {},
   "source": [
    "$$a\\left(3\\right)=13$$"
   ]
  },
  {
   "cell_type": "markdown",
   "metadata": {},
   "source": [
    "$$a\\left(4\\right)=91$$"
   ]
  },
  {
   "cell_type": "code",
   "execution_count": 1,
   "metadata": {},
   "outputs": [],
   "source": [
    "def f(n):\n",
    "    A = [1,11,13,91]\n",
    "    if n <= 4:\n",
    "        return(A[:n])\n",
    "    else:\n",
    "        for i in range(5, n+1):\n",
    "            A.append(9*A[-2]-8*A[-4])\n",
    "        return(A)"
   ]
  },
  {
   "cell_type": "code",
   "execution_count": 2,
   "metadata": {},
   "outputs": [
    {
     "name": "stdout",
     "output_type": "stream",
     "text": [
      "True\n"
     ]
    }
   ],
   "source": [
    "# Checking first few terms of A334930\n",
    "print(f(29) == [1,11,13,91,109,731,877,5851,7021,46811,56173,\n",
    " 374491,449389,2995931,3595117,23967451,28760941,\n",
    " 191739611,230087533,1533916891,1840700269,\n",
    " 12271335131,14725602157,98170681051,117804817261,\n",
    " 785365448411,942438538093,6282923587291,\n",
    " 7539508304749])"
   ]
  },
  {
   "cell_type": "markdown",
   "metadata": {},
   "source": [
    "## Finding a closed formula:\n",
    "\n",
    "Recall that $G(x)$ is of the form $\\frac{P(x)}{Q(x)}$ where the degree of the polynomial $Q(x)$ is greater than the degree of the polynomial $P(x)$. Additionally, recall that $0$ is not a root of $Q(x)$. So, considering that the degree of $Q(x)$ is $4$, there must exist a characteristic equation $R(x)=0$ where:\n",
    "\n",
    "$$R\\left(\\frac{1}{x}\\right)=\\frac{Q(x)}{x^{16}}=8-\\frac{9}{x^{2}}+\\frac{1}{x^{4}}$$"
   ]
  },
  {
   "cell_type": "markdown",
   "metadata": {},
   "source": [
    "Ergo:\n",
    "\n",
    "$$R\\left(x\\right)=8-9x^{2}+x^{4}$$"
   ]
  },
  {
   "cell_type": "markdown",
   "metadata": {},
   "source": [
    "The roots of $R(x)$ are:\n",
    "\n",
    "$$1, -1, 2\\sqrt{2}, -2\\sqrt{2}$$"
   ]
  },
  {
   "cell_type": "markdown",
   "metadata": {},
   "source": [
    "Thus, there exists a closed formula of the form:\n",
    "\n",
    "$$a\\left(n\\right)=c_{1}+c_{2}\\left(-1\\right)^{n}+c_{3}\\left(2\\sqrt{2}\\right)^{n}+c_{4}\\left(-2\\sqrt{2}\\right)^{n}$$"
   ]
  },
  {
   "cell_type": "markdown",
   "metadata": {},
   "source": [
    "The initial value problem:\n",
    "\n",
    "$$1=c_{1}+c_{2}\\left(-1\\right)+c_{3}\\left(2\\sqrt{2}\\right)+c_{4}\\left(-2\\sqrt{2}\\right)$$"
   ]
  },
  {
   "cell_type": "markdown",
   "metadata": {},
   "source": [
    "$$11=c_{1}+c_{2}\\left(-1\\right)^{2}+c_{3}\\left(2\\sqrt{2}\\right)^{2}+c_{4}\\left(-2\\sqrt{2}\\right)^{2}$$"
   ]
  },
  {
   "cell_type": "markdown",
   "metadata": {},
   "source": [
    "$$13=c_{1}+c_{2}\\left(-1\\right)^{3}+c_{3}\\left(2\\sqrt{2}\\right)^{3}+c_{4}\\left(-2\\sqrt{2}\\right)^{3}$$"
   ]
  },
  {
   "cell_type": "markdown",
   "metadata": {},
   "source": [
    "$$91=c_{1}+c_{2}\\left(-1\\right)^{4}+c_{3}\\left(2\\sqrt{2}\\right)^{4}+c_{4}\\left(-2\\sqrt{2}\\right)^{4}$$"
   ]
  },
  {
   "cell_type": "markdown",
   "metadata": {},
   "source": [
    "Is satisfied by the coefficients:\n",
    "\n",
    "$$c_{1}=-\\frac{4}{7}$$"
   ]
  },
  {
   "cell_type": "markdown",
   "metadata": {},
   "source": [
    "$$c_{2}=\\frac{1}{7}$$"
   ]
  },
  {
   "cell_type": "markdown",
   "metadata": {},
   "source": [
    "$$c_{3}=\\frac{10+3\\sqrt{2}}{14}$$"
   ]
  },
  {
   "cell_type": "markdown",
   "metadata": {},
   "source": [
    "$$c_{4}=\\frac{10-3\\sqrt{2}}{14}$$"
   ]
  },
  {
   "cell_type": "markdown",
   "metadata": {},
   "source": [
    "Therefore:\n",
    "\n",
    "$$a(n)=-\\frac{4}{7}-\\frac{1}{7}\\left(-1\\right)^{n-1}+\\frac{6+10\\sqrt{2}}{7}\\left(2\\sqrt{2}\\right)^{n-1}+\\frac{6-10\\sqrt{2}}{7}\\left(-2\\sqrt{2}\\right)^{n-1}$$"
   ]
  },
  {
   "cell_type": "code",
   "execution_count": null,
   "metadata": {},
   "outputs": [],
   "source": []
  }
 ],
 "metadata": {
  "kernelspec": {
   "display_name": "Python 3",
   "language": "python",
   "name": "python3"
  },
  "language_info": {
   "codemirror_mode": {
    "name": "ipython",
    "version": 3
   },
   "file_extension": ".py",
   "mimetype": "text/x-python",
   "name": "python",
   "nbconvert_exporter": "python",
   "pygments_lexer": "ipython3",
   "version": "3.7.6"
  }
 },
 "nbformat": 4,
 "nbformat_minor": 4
}
