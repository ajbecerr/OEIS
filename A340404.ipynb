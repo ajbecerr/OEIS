{
 "cells": [
  {
   "cell_type": "markdown",
   "metadata": {},
   "source": [
    "Number of sets in the geometry determined by the Hausdorff metric at each location between two sets defined by a complete bipartite graph $K(5, n)$ (with $n$ at least $4$) missing three edges, where the removed edges are incident to different vertices in the $5$-point set and none of the removed edges are incident to the same vertex in the other set."
   ]
  },
  {
   "cell_type": "markdown",
   "metadata": {},
   "source": [
    "## Finding a generating function:\n",
    "\n",
    "Define:\n",
    "\n",
    "$$G(x)=\\sum_{n=4}^{\\infty}a(n)x^{n}$$"
   ]
  },
  {
   "cell_type": "markdown",
   "metadata": {},
   "source": [
    "For all $n\\geq 4$, since:\n",
    "\n",
    "$$a(n)=3375\\times31^{n-3}-2891\\times15^{n-3}+846\\times7^{n-3}-10\\times3^{n-1}+2$$"
   ]
  },
  {
   "cell_type": "markdown",
   "metadata": {},
   "source": [
    "It follows that:\n",
    "\n",
    "$$G(x)=\\sum_{n=4}^{\\infty}\\left(3375\\times31^{n-3}-2891\\times15^{n-3}+846\\times7^{n-3}-10\\times3^{n-1}+2\\right)x^{n}$$"
   ]
  },
  {
   "cell_type": "markdown",
   "metadata": {},
   "source": [
    "Or, equivalently:\n",
    "\n",
    "$$G(x)=\\frac{3375}{29791}\\sum_{n=4}^{\\infty}31^{n}x^{n}-\\frac{2891}{3375}\\sum_{n=4}^{\\infty}15^{n}x^{n}+\\frac{846}{343}\\sum_{n=4}^{\\infty}7^{n}x^{n}-\\frac{10}{3}\\sum_{n=4}^{\\infty}3^{n}x^{n}+2\\sum_{n=4}^{\\infty}x^{n}$$"
   ]
  },
  {
   "cell_type": "markdown",
   "metadata": {},
   "source": [
    "Ergo:\n",
    "\n",
    "$$\\tiny G(x)=\\frac{3375}{29791}\\left(\\frac{1}{1-31x}-29791x^{3}-961x^{2}-31x-1\\right)-\\frac{2891}{3375}\\left(\\frac{1}{1-15x}-3375x^{3}-225x^{2}-15x-1\\right)+\\frac{846}{343}\\left(\\frac{1}{1-7x}-343x^{3}-49x^{2}-7x-1\\right)-\\frac{10}{3}\\left(\\frac{1}{1-3x}-27x^{3}-9x^{2}-3x-1\\right)+2\\left(\\frac{1}{1-x}-x^{3}-x^{2}-x-1\\right)$$"
   ]
  },
  {
   "cell_type": "markdown",
   "metadata": {},
   "source": [
    "Or, equivalently:\n",
    "\n",
    "$$G(x)=\\frac{3375}{29791-923521x}-\\frac{2891}{3375-50625x}+\\frac{846}{343-2401x}-\\frac{10}{3-9x}+\\frac{2}{1-x}-1242x^{3}-\\frac{29278}{3255}x^{2}+\\frac{758774}{10595025}x-\\frac{13444185742}{34486806375}$$"
   ]
  },
  {
   "cell_type": "markdown",
   "metadata": {},
   "source": [
    "Therefore:\n",
    "\n",
    "$$G(x)=\\frac{2x^{4}\\left(6064065x^4-9507684x^3+4005478x^2-590276x+33457\\right)}{\\left(1-31x\\right)\\left(1-15x\\right)\\left(1-7x\\right)\\left(1-3x\\right)\\left(1-x\\right)}$$"
   ]
  },
  {
   "cell_type": "markdown",
   "metadata": {},
   "source": [
    "## Finding a recurrence relation:\n",
    "\n",
    "If $G(x)$ is of the form $\\frac{P(x)}{Q(x)}$ where the degree of the polynomial $Q(x)$ is greater than the degree of the polynomial $P(x)$, and $0$ is not a root of $Q(x)$, then for all $n\\geq k$ it follows that:\n",
    "\n",
    "$$a(n)=-\\frac{1}{q_{0}}\\sum_{l=1}^{k}q_{l}\\times a\\left(n-l\\right)$$\n",
    "\n",
    "Where:\n",
    "\n",
    "$$Q(x)=\\sum_{l=0}^{k}q_{l}x^{l}$$"
   ]
  },
  {
   "cell_type": "markdown",
   "metadata": {},
   "source": [
    "However, due to the offset of this sequence, and the way the generating funtion has been defined, it is not the case that the degree of the polynomial $Q(x)$ is greater than the degree of the polynomial $P(x)$. This could probably be ignored, but that would not be mathematically precise. Rather, define a new generating function:\n",
    "\n",
    "$$H(x)=\\frac{2\\left(6064065x^4-9507684x^3+4005478x^2-590276x+33457\\right)}{\\left(1-31x\\right)\\left(1-15x\\right)\\left(1-7x\\right)\\left(1-3x\\right)\\left(1-x\\right)}$$"
   ]
  },
  {
   "cell_type": "markdown",
   "metadata": {},
   "source": [
    "Whose expansion gives the sequence $b(n)$, which is the same as $a(n)$, but with an offset of $0$ instead of $4$. Notice that $H(x)$ allows the application of the theorem discussed above. Ergo, for all $n\\geq 5$:\n",
    "\n",
    "$$b(n)=57\\times b\\left(n-1\\right)-1002\\times b\\left(n-2\\right)+6562\\times b\\left(n-3\\right)-15381\\times b\\left(n-4\\right)+9765\\times b\\left(n-5\\right)$$"
   ]
  },
  {
   "cell_type": "markdown",
   "metadata": {},
   "source": [
    "Where:\n",
    "\n",
    "$$b(0)=66914$$"
   ]
  },
  {
   "cell_type": "markdown",
   "metadata": {},
   "source": [
    "$$b(1)=2633546$$"
   ]
  },
  {
   "cell_type": "markdown",
   "metadata": {},
   "source": [
    "$$b(2)=91075250$$"
   ]
  },
  {
   "cell_type": "markdown",
   "metadata": {},
   "source": [
    "$$b(3)=2972550458$$"
   ]
  },
  {
   "cell_type": "markdown",
   "metadata": {},
   "source": [
    "$$b(4)=94442228354$$"
   ]
  },
  {
   "cell_type": "markdown",
   "metadata": {},
   "source": [
    "Therefore, quite similarly, for all $n\\geq 9$:\n",
    "\n",
    "$$a(n)=57\\times a\\left(n-1\\right)-1002\\times a\\left(n-2\\right)+6562\\times a\\left(n-3\\right)-15381\\times a\\left(n-4\\right)+9765\\times a\\left(n-5\\right)$$"
   ]
  },
  {
   "cell_type": "markdown",
   "metadata": {},
   "source": [
    "Where:\n",
    "\n",
    "$$a(4)=66914$$"
   ]
  },
  {
   "cell_type": "markdown",
   "metadata": {},
   "source": [
    "$$a(5)=2633546$$"
   ]
  },
  {
   "cell_type": "markdown",
   "metadata": {},
   "source": [
    "$$a(6)=91075250$$"
   ]
  },
  {
   "cell_type": "markdown",
   "metadata": {},
   "source": [
    "$$a(7)=2972550458$$"
   ]
  },
  {
   "cell_type": "markdown",
   "metadata": {},
   "source": [
    "$$a(8)=94442228354$$"
   ]
  },
  {
   "cell_type": "code",
   "execution_count": 1,
   "metadata": {},
   "outputs": [],
   "source": [
    "def f(n):\n",
    "    A = [66914, 2633546, 91075250, 2972550458, 94442228354]\n",
    "    if n <= 8:\n",
    "        return(A[:n-2])\n",
    "    else:\n",
    "        for i in range(9, n+1):\n",
    "            A.append(57*A[-1]-1002*A[-2]+6562*A[-3]-15381*A[-4]+9765*A[-5])\n",
    "        return(A)"
   ]
  },
  {
   "cell_type": "code",
   "execution_count": 2,
   "metadata": {},
   "outputs": [
    {
     "name": "stdout",
     "output_type": "stream",
     "text": [
      "True\n"
     ]
    }
   ],
   "source": [
    "# Checking first few terms of A340404\n",
    "print(f(17) == [66914,2633546,91075250,2972550458,94442228354,\n",
    " 2962494091946,92361814692050,2871102810997658,\n",
    " 89122619177691554,2764578611249652746,\n",
    " 85728604753979332850,2657986810333194788858,\n",
    " 82403592385902351106754,2554601385194824465949546])"
   ]
  },
  {
   "cell_type": "code",
   "execution_count": null,
   "metadata": {},
   "outputs": [],
   "source": []
  }
 ],
 "metadata": {
  "kernelspec": {
   "display_name": "Python 3",
   "language": "python",
   "name": "python3"
  },
  "language_info": {
   "codemirror_mode": {
    "name": "ipython",
    "version": 3
   },
   "file_extension": ".py",
   "mimetype": "text/x-python",
   "name": "python",
   "nbconvert_exporter": "python",
   "pygments_lexer": "ipython3",
   "version": "3.7.6"
  }
 },
 "nbformat": 4,
 "nbformat_minor": 4
}
