{
 "cells": [
  {
   "cell_type": "markdown",
   "metadata": {},
   "source": [
    "Largest side lengths of almost-equilateral Heronian triangles."
   ]
  },
  {
   "cell_type": "markdown",
   "metadata": {},
   "source": [
    "## Finding a generating function:\n",
    "\n",
    "Define:\n",
    "\n",
    "$$G(x)=\\sum_{n=1}^{\\infty}a(n)x^{n}$$"
   ]
  },
  {
   "cell_type": "markdown",
   "metadata": {},
   "source": [
    "For all $n\\geq 1$, since:\n",
    "\n",
    "$$a(n)=\\left(2+\\sqrt{3}\\right)^{n}+\\left(2-\\sqrt{3}\\right)^{n}+1$$"
   ]
  },
  {
   "cell_type": "markdown",
   "metadata": {},
   "source": [
    "It follows that:\n",
    "\n",
    "$$G(x)=\\sum_{n=1}^{\\infty}\\left(\\left(2+\\sqrt{3}\\right)^{n}+\\left(2-\\sqrt{3}\\right)^{n}+1\\right)x^{n}$$"
   ]
  },
  {
   "cell_type": "markdown",
   "metadata": {},
   "source": [
    "Or, equivalently:\n",
    "\n",
    "$$G(x)=\\sum_{n=1}^{\\infty}\\left(2+\\sqrt{3}\\right)^{n}x^{n}+\\sum_{n=1}^{\\infty}\\left(2-\\sqrt{3}\\right)^{n}x^{n}+\\sum_{n=1}^{\\infty}x^{n}$$"
   ]
  },
  {
   "cell_type": "markdown",
   "metadata": {},
   "source": [
    "Ergo:\n",
    "\n",
    "$$G(x)=\\left(\\frac{1}{1-\\left(2+\\sqrt{3}\\right)x}-1\\right)+\\left(\\frac{1}{1-\\left(2-\\sqrt{3}\\right)x}-1\\right)+\\left(\\frac{1}{1-x}-1\\right)$$"
   ]
  },
  {
   "cell_type": "markdown",
   "metadata": {},
   "source": [
    "Or, equivalently:\n",
    "\n",
    "$$G(x)=\\frac{1}{1-\\left(2+\\sqrt{3}\\right)x}+\\frac{1}{1-\\left(2-\\sqrt{3}\\right)x}+\\frac{1}{1-x}-3$$"
   ]
  },
  {
   "cell_type": "markdown",
   "metadata": {},
   "source": [
    "Therefore:\n",
    "\n",
    "$$G(x)=\\frac{x\\left(3x^{2}-10x+5\\right)}{\\left(x^{2}-4x+1\\right)\\left(1-x\\right)}$$"
   ]
  },
  {
   "cell_type": "markdown",
   "metadata": {},
   "source": [
    "## Finding a recurrence relation:\n",
    "\n",
    "If $G(x)$ is of the form $\\frac{P(x)}{Q(x)}$ where the degree of the polynomial $Q(x)$ is greater than the degree of the polynomial $P(x)$, and $0$ is not a root of $Q(x)$, then for all $n\\geq k$ it follows that:\n",
    "\n",
    "$$a(n)=-\\frac{1}{q_{0}}\\sum_{l=1}^{k}q_{l}\\times a\\left(n-l\\right)$$\n",
    "\n",
    "Where:\n",
    "\n",
    "$$Q(x)=\\sum_{l=0}^{k}q_{l}x^{l}$$"
   ]
  },
  {
   "cell_type": "markdown",
   "metadata": {},
   "source": [
    "However, due to the offset of this sequence, and the way the generating funtion has been defined, it is not the case that the degree of the polynomial $Q(x)$ is greater than the degree of the polynomial $P(x)$. This could probably be ignored, but that would not be mathematically precise. Rather, define a new generating function:\n",
    "\n",
    "$$H(x)=\\frac{3x^{2}-10x+5}{\\left(x^{2}-4x+1\\right)\\left(1-x\\right)}$$"
   ]
  },
  {
   "cell_type": "markdown",
   "metadata": {},
   "source": [
    "Whose expansion gives the sequence $b(n)$, which is the same as $a(n)$, but with an offset of $0$ instead of $1$. Notice that $H(x)$ allows the application of the theorem discussed above. Ergo, for all $n\\geq 3$:\n",
    "\n",
    "$$b(n)=5\\times b\\left(n-1\\right)-5\\times b\\left(n-2\\right)+b\\left(n-3\\right)$$"
   ]
  },
  {
   "cell_type": "markdown",
   "metadata": {},
   "source": [
    "Where:\n",
    "\n",
    "$$b(0)=5$$"
   ]
  },
  {
   "cell_type": "markdown",
   "metadata": {},
   "source": [
    "$$b(1)=15$$"
   ]
  },
  {
   "cell_type": "markdown",
   "metadata": {},
   "source": [
    "$$b(2)=53$$"
   ]
  },
  {
   "cell_type": "markdown",
   "metadata": {},
   "source": [
    "Therefore, quite similarly, for all $n\\geq 4$:\n",
    "\n",
    "$$a(n)=5\\times a\\left(n-1\\right)-5\\times a\\left(n-2\\right)+a\\left(n-3\\right)$$"
   ]
  },
  {
   "cell_type": "markdown",
   "metadata": {},
   "source": [
    "Where:\n",
    "\n",
    "$$a(1)=5$$"
   ]
  },
  {
   "cell_type": "markdown",
   "metadata": {},
   "source": [
    "$$a(2)=15$$"
   ]
  },
  {
   "cell_type": "markdown",
   "metadata": {},
   "source": [
    "$$a(3)=53$$"
   ]
  },
  {
   "cell_type": "code",
   "execution_count": 1,
   "metadata": {},
   "outputs": [],
   "source": [
    "def f(n):\n",
    "    A = [5, 15, 53]\n",
    "    if n <= 3:\n",
    "        return(A[:n-2])\n",
    "    else:\n",
    "        for i in range(4, n+1):\n",
    "            A.append(5*A[-1]-5*A[-2]+A[-3])\n",
    "        return(A)"
   ]
  },
  {
   "cell_type": "code",
   "execution_count": 2,
   "metadata": {},
   "outputs": [
    {
     "name": "stdout",
     "output_type": "stream",
     "text": [
      "True\n"
     ]
    }
   ],
   "source": [
    "# Checking first few terms of A335205\n",
    "print(f(27) == [5,15,53,195,725,2703,10085,37635,140453,524175,\n",
    " 1956245,7300803,27246965,101687055,379501253,\n",
    " 1416317955,5285770565,19726764303,73621286645,\n",
    " 274758382275,1025412242453,3826890587535,\n",
    " 14282150107685,53301709843203,198924689265125,\n",
    " 742397047217295,2770663499604053])"
   ]
  },
  {
   "cell_type": "code",
   "execution_count": null,
   "metadata": {},
   "outputs": [],
   "source": []
  }
 ],
 "metadata": {
  "kernelspec": {
   "display_name": "Python 3",
   "language": "python",
   "name": "python3"
  },
  "language_info": {
   "codemirror_mode": {
    "name": "ipython",
    "version": 3
   },
   "file_extension": ".py",
   "mimetype": "text/x-python",
   "name": "python",
   "nbconvert_exporter": "python",
   "pygments_lexer": "ipython3",
   "version": "3.7.6"
  }
 },
 "nbformat": 4,
 "nbformat_minor": 4
}
