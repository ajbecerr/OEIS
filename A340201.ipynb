{
 "cells": [
  {
   "cell_type": "markdown",
   "metadata": {},
   "source": [
    "Number of sets in the geometry determined by the Hausdorff metric at each location between two sets defined by a complete bipartite graph $K(5, n)$ (with $n$ at least $3$) missing two edges, where the two removed edges are not incident to the same vertex in the $5$-point set and are also not incident to the same vertex in the other set."
   ]
  },
  {
   "cell_type": "markdown",
   "metadata": {},
   "source": [
    "## Finding a generating function:\n",
    "\n",
    "Define:\n",
    "\n",
    "$$G(x)=\\sum_{n=3}^{\\infty}a(n)x^{n}$$"
   ]
  },
  {
   "cell_type": "markdown",
   "metadata": {},
   "source": [
    "For all $n\\geq3$, since:\n",
    "\n",
    "$$a(n)=225\\times31^{n-2}-357\\times15^{n-2}+202\\times7^{n-2}-46\\times3^{n-2}+3$$"
   ]
  },
  {
   "cell_type": "markdown",
   "metadata": {},
   "source": [
    "It follows that:\n",
    "\n",
    "$$G(x)=\\sum_{n=3}^{\\infty}\\left(225\\times31^{n-2}-357\\times15^{n-2}+202\\times7^{n-2}-46\\times3^{n-2}+3\\right)x^{n}$$"
   ]
  },
  {
   "cell_type": "markdown",
   "metadata": {},
   "source": [
    "Or, equivalently:\n",
    "\n",
    "$$G(x)=\\frac{225}{961}\\sum_{n=3}^{\\infty}31^{n}x^{n}-\\frac{357}{225}\\sum_{n=3}^{\\infty}15^{n}x^{n}+\\frac{202}{49}\\sum_{n=3}^{\\infty}7^nx^{n}-\\frac{46}{9}\\sum_{n=3}^{\\infty}3^{n}x^{n}+3\\sum_{n=3}^{\\infty}x^{n}$$"
   ]
  },
  {
   "cell_type": "markdown",
   "metadata": {},
   "source": [
    "Ergo:\n",
    "\n",
    "$$\\scriptsize G(x)=\\frac{225}{961}\\left(\\frac{1}{1-31x}-961x^{2}-31x-1\\right)-\\frac{357}{225}\\left(\\frac{1}{1-15x}-225x^{2}-15x-1\\right)+\\frac{202}{49}\\left(\\frac{1}{1-7x}-49x^{2}-7x-1\\right)-\\frac{46}{9}\\left(\\frac{1}{1-3x}-9x^{2}-3x-1\\right)+3\\left(\\frac{1}{1-x}-x^{2}-x-1\\right)$$"
   ]
  },
  {
   "cell_type": "markdown",
   "metadata": {},
   "source": [
    "Or, equivalently:\n",
    "\n",
    "$$G(x)=\\frac{225}{961-29791x}-\\frac{357}{225-3375x}+\\frac{202}{49-343x}-\\frac{46}{9-27x}+\\frac{3}{1-x}-27x^{2}+\\frac{59}{3255}x-\\frac{6980027}{10595025}$$"
   ]
  },
  {
   "cell_type": "markdown",
   "metadata": {},
   "source": [
    "Therefore:\n",
    "\n",
    "$$G(x)=\\frac{x^3\\left(263655x^4-415464x^3+183886x^2-19856x+2899\\right)}{\\left(1-31x\\right)\\left(1-15x\\right)\\left(1-7x\\right)\\left(1-3x\\right)\\left(1-x\\right)}$$"
   ]
  },
  {
   "cell_type": "markdown",
   "metadata": {},
   "source": [
    "## Finding a recurrence relation:\n",
    "\n",
    "If $G(x)$ is of the form $\\frac{P(x)}{Q(x)}$ where the degree of the polynomial $Q(x)$ is greater than the degree of the polynomial $P(x)$, and $0$ is not a root of $Q(x)$, then for all $n\\geq k$ it follows that:\n",
    "\n",
    "$$a(n)=-\\frac{1}{q_{0}}\\sum_{l=1}^{k}q_{l}\\times a\\left(n-l\\right)$$\n",
    "\n",
    "Where:\n",
    "\n",
    "$$Q(x)=\\sum_{l=0}^{k}q_{l}x^{l}$$"
   ]
  },
  {
   "cell_type": "markdown",
   "metadata": {},
   "source": [
    "However, due to the offset of this sequence, and the way the generating funtion has been defined, it is not the case that the degree of the polynomial $Q(x)$ is greater than the degree of the polynomial $P(x)$. This could probably be ignored, but that would not be mathematically precise. Rather, define a new generating function:\n",
    "\n",
    "$$H(x)=\\frac{263655x^4-415464x^3+183886x^2-19856x+2899}{\\left(1-31x\\right)\\left(1-15x\\right)\\left(1-7x\\right)\\left(1-3x\\right)\\left(1-x\\right)}$$"
   ]
  },
  {
   "cell_type": "markdown",
   "metadata": {},
   "source": [
    "Whose expansion gives the sequence $b(n)$, which is the same as $a(n)$, but with an offset of $0$ instead of $3$. Notice that $H(x)$ allows the application of the theorem discussed above. Ergo, for all $n\\geq 5$:\n",
    "\n",
    "$$b(n)=57\\times b\\left(n-1\\right)-1002\\times b\\left(n-2\\right)+6562\\times b\\left(n-3\\right)-15381\\times b\\left(n-4\\right)+9765\\times b\\left(n-5\\right)$$"
   ]
  },
  {
   "cell_type": "markdown",
   "metadata": {},
   "source": [
    "Where:\n",
    "\n",
    "$$b(0)=2899$$"
   ]
  },
  {
   "cell_type": "markdown",
   "metadata": {},
   "source": [
    "$$b(1)=145387$$"
   ]
  },
  {
   "cell_type": "markdown",
   "metadata": {},
   "source": [
    "$$b(2)=5566147$$"
   ]
  },
  {
   "cell_type": "markdown",
   "metadata": {},
   "source": [
    "$$b(3)=190200379$$"
   ]
  },
  {
   "cell_type": "markdown",
   "metadata": {},
   "source": [
    "$$b(4)=6173845939$$"
   ]
  },
  {
   "cell_type": "markdown",
   "metadata": {},
   "source": [
    "Therefore, quite similarly, for all $n\\geq 8$:\n",
    "\n",
    "$$a(n)=57\\times a\\left(n-1\\right)-1002\\times a\\left(n-2\\right)+6562\\times a\\left(n-3\\right)-15381\\times a\\left(n-4\\right)+9765\\times a\\left(n-5\\right)$$"
   ]
  },
  {
   "cell_type": "markdown",
   "metadata": {},
   "source": [
    "Where:\n",
    "\n",
    "$$a(3)=2899$$"
   ]
  },
  {
   "cell_type": "markdown",
   "metadata": {},
   "source": [
    "$$a(4)=145387$$"
   ]
  },
  {
   "cell_type": "markdown",
   "metadata": {},
   "source": [
    "$$a(5)=5566147$$"
   ]
  },
  {
   "cell_type": "markdown",
   "metadata": {},
   "source": [
    "$$a(6)=190200379$$"
   ]
  },
  {
   "cell_type": "markdown",
   "metadata": {},
   "source": [
    "$$a(7)=6173845939$$"
   ]
  },
  {
   "cell_type": "code",
   "execution_count": 1,
   "metadata": {},
   "outputs": [],
   "source": [
    "def f(n):\n",
    "    A = [2899, 145387, 5566147, 190200379, 6173845939]\n",
    "    if n <= 7:\n",
    "        return(A[:n-2])\n",
    "    else:\n",
    "        for i in range(8, n+1):\n",
    "            A.append(57*A[-1]-1002*A[-2]+6562*A[-3]-15381*A[-4]+9765*A[-5])\n",
    "        return(A)"
   ]
  },
  {
   "cell_type": "code",
   "execution_count": 2,
   "metadata": {},
   "outputs": [
    {
     "name": "stdout",
     "output_type": "stream",
     "text": [
      "True\n"
     ]
    }
   ],
   "source": [
    "# Checking first few terms of A340201\n",
    "print(f(17) == [2899,145387,5566147,190200379,6173845939,\n",
    " 195645606667,6129507633187,190986695659099,\n",
    " 5935198857377299,184210557438511147,\n",
    " 5713819738261143427,177177809705712311419,\n",
    " 5493253144857237049459,170301963687088948318027,\n",
    " 5279527621005195132400867])"
   ]
  },
  {
   "cell_type": "code",
   "execution_count": null,
   "metadata": {},
   "outputs": [],
   "source": []
  }
 ],
 "metadata": {
  "kernelspec": {
   "display_name": "Python 3",
   "language": "python",
   "name": "python3"
  },
  "language_info": {
   "codemirror_mode": {
    "name": "ipython",
    "version": 3
   },
   "file_extension": ".py",
   "mimetype": "text/x-python",
   "name": "python",
   "nbconvert_exporter": "python",
   "pygments_lexer": "ipython3",
   "version": "3.7.6"
  }
 },
 "nbformat": 4,
 "nbformat_minor": 4
}
