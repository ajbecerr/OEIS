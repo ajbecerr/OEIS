{
 "cells": [
  {
   "cell_type": "markdown",
   "metadata": {},
   "source": [
    "$a(n) = 12n+9$."
   ]
  },
  {
   "cell_type": "markdown",
   "metadata": {},
   "source": [
    "## Finding a generating function:\n",
    "\n",
    "Define:\n",
    "\n",
    "$$G(x)=\\sum_{n=0}^{\\infty}a(n)x^{n}$$"
   ]
  },
  {
   "cell_type": "markdown",
   "metadata": {},
   "source": [
    "Since:\n",
    "\n",
    "$$a(n) = 12n+9$$"
   ]
  },
  {
   "cell_type": "markdown",
   "metadata": {},
   "source": [
    "It follows that:\n",
    "\n",
    "$$G(x)=\\sum_{n=0}^{\\infty}\\left(12n+9\\right)x^{n}$$"
   ]
  },
  {
   "cell_type": "markdown",
   "metadata": {},
   "source": [
    "Or, equivalently:\n",
    "\n",
    "$$G(x)=12x\\sum_{n=0}^{\\infty}nx^{n-1}+9\\sum_{n=0}^{\\infty}x^{n}$$"
   ]
  },
  {
   "cell_type": "markdown",
   "metadata": {},
   "source": [
    "Ergo:\n",
    "\n",
    "$$\\small G(x)=12x\\frac{d}{dx}\\left(\\frac{1}{1-x}\\right)+\\frac{9}{1-x}$$"
   ]
  },
  {
   "cell_type": "markdown",
   "metadata": {},
   "source": [
    "Therefore:\n",
    "\n",
    "$$G(x) = \\frac{9+3x}{\\left(1-x\\right)^{2}}$$"
   ]
  },
  {
   "cell_type": "markdown",
   "metadata": {},
   "source": [
    "## Finding a recurrence relation:\n",
    "\n",
    "Observe that $G(x)$ is of the form $\\frac{P(x)}{Q(x)}$ where the degree of the polynomial $Q(x)$ is greater than the degree of the polynomial $P(x)$. Additionally, observe that $0$ is not a root of $Q(x)$. Therefore, for all $n\\geq 2$:\n",
    "\n",
    "$$a\\left(n\\right)=2\\times a\\left(n-1\\right)-a\\left(n-2\\right)$$"
   ]
  },
  {
   "cell_type": "markdown",
   "metadata": {},
   "source": [
    "And:\n",
    "\n",
    "$$a\\left(0\\right)=9$$"
   ]
  },
  {
   "cell_type": "markdown",
   "metadata": {},
   "source": [
    "$$a\\left(1\\right)=21$$"
   ]
  },
  {
   "cell_type": "code",
   "execution_count": 1,
   "metadata": {},
   "outputs": [],
   "source": [
    "def f(n):\n",
    "    A = [9, 21]\n",
    "    if n <= 1:\n",
    "        return(A[:n])\n",
    "    else:\n",
    "        for i in range(2, n+1):\n",
    "            A.append(2*A[-1]-A[-2])\n",
    "        return(A)"
   ]
  },
  {
   "cell_type": "code",
   "execution_count": 2,
   "metadata": {},
   "outputs": [
    {
     "name": "stdout",
     "output_type": "stream",
     "text": [
      "True\n"
     ]
    }
   ],
   "source": [
    "# Checking first few terms of A017629\n",
    "print(f(52) == [9,21,33,45,57,69,81,93,105,117,129,141,153,165,\n",
    " 177,189,201,213,225,237,249,261,273,285,297,309,\n",
    " 321,333,345,357,369,381,393,405,417,429,441,453,\n",
    " 465,477,489,501,513,525,537,549,561,573,585,597,\n",
    " 609,621,633])"
   ]
  },
  {
   "cell_type": "code",
   "execution_count": null,
   "metadata": {},
   "outputs": [],
   "source": []
  }
 ],
 "metadata": {
  "kernelspec": {
   "display_name": "Python 3",
   "language": "python",
   "name": "python3"
  },
  "language_info": {
   "codemirror_mode": {
    "name": "ipython",
    "version": 3
   },
   "file_extension": ".py",
   "mimetype": "text/x-python",
   "name": "python",
   "nbconvert_exporter": "python",
   "pygments_lexer": "ipython3",
   "version": "3.7.6"
  }
 },
 "nbformat": 4,
 "nbformat_minor": 4
}
