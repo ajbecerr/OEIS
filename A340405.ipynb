{
 "cells": [
  {
   "cell_type": "markdown",
   "metadata": {},
   "source": [
    "Number of sets in the geometry determined by the Hausdorff metric at each location between two sets defined by a complete bipartite graph $K(6, n)$ (with $n$ at least $4$) missing three edges, where the removed edges are incident to different vertices in the $6$-point set and none of the removed edges are incident to the same vertex in the other set."
   ]
  },
  {
   "cell_type": "markdown",
   "metadata": {},
   "source": [
    "## Finding a generating function:\n",
    "\n",
    "Define:\n",
    "\n",
    "$$G(x)=\\sum_{n=4}^{\\infty}a(n)x^{n}$$"
   ]
  },
  {
   "cell_type": "markdown",
   "metadata": {},
   "source": [
    "For all $n\\geq 4$, since:\n",
    "\n",
    "$$a(n)=29791\\times63^{n-3}-31050\\times31^{n-3}+12369\\times15^{n-3}-2260\\times7^{n-3}+19\\times3^{n-1}-3$$"
   ]
  },
  {
   "cell_type": "markdown",
   "metadata": {},
   "source": [
    "It follows that:\n",
    "\n",
    "$$G(x)=\\sum_{n=4}^{\\infty}\\left(29791\\times63^{n-3}-31050\\times31^{n-3}+12369\\times15^{n-3}-2260\\times7^{n-3}+19\\times3^{n-1}-3\\right)x^{n}$$"
   ]
  },
  {
   "cell_type": "markdown",
   "metadata": {},
   "source": [
    "Or, equivalently:\n",
    "\n",
    "$$G(x)=\\frac{29791}{250047}\\sum_{n=4}^{\\infty}63^{n}x^{n}-\\frac{31050}{29791}\\sum_{n=4}^{\\infty}31^{n}x^{n}+\\frac{12369}{3375}\\sum_{n=4}^{\\infty}15^{n}x^{n}-\\frac{2260}{343}\\sum_{n=4}^{\\infty}7^nx^{n}+\\frac{19}{3}\\sum_{n=4}^{\\infty}3^{n}x^{n}-3\\sum_{n=4}^{\\infty}x^{n}$$"
   ]
  },
  {
   "cell_type": "markdown",
   "metadata": {},
   "source": [
    "Ergo:\n",
    "\n",
    "$$\\scriptsize G(x)=\\frac{29791}{250047}\\left(\\frac{1}{1-63x}-250047x^{3}-3969x^{2}-63x-1\\right)-\\frac{31050}{29791}\\left(\\frac{1}{1-31x}-29791x^{3}-961x^{2}-31x-1\\right)+\\frac{12369}{3375}\\left(\\frac{1}{1-15x}-3375x^{3}-225x^{2}-15x-1\\right)-\\frac{2260}{343}\\left(\\frac{1}{1-7x}-343x^{3}-49x^{2}-7x-1\\right)+\\frac{19}{3}\\left(\\frac{1}{1-3x}-27x^{3}-9x^{2}-3x-1\\right)-3\\left(\\frac{1}{1-x}-x^{3}-x^{2}-x-1\\right)$$"
   ]
  },
  {
   "cell_type": "markdown",
   "metadata": {},
   "source": [
    "Or, equivalently:\n",
    "\n",
    "$$\\scriptsize G(x)=\\frac{29791}{250047-15752961x}-\\frac{31050}{29791-923521x}+\\frac{12369}{3375-50625x}-\\frac{2260}{343-2401x}+\\frac{19}{3-9x}-\\frac{3}{1-x}-9018x^{3}-\\frac{263684}{9765}x^{2}-\\frac{4454194}{95355225}x+\\frac{68348419708}{133020538875}$$"
   ]
  },
  {
   "cell_type": "markdown",
   "metadata": {},
   "source": [
    "Therefore:\n",
    "\n",
    "$$G(x)=\\frac{-2x^{4}\\left(2773914255x^5-4404958866x^4+1920200130x^3-308614840x^2+19532855x-542254\\right)}{\\left(1-63x\\right)\\left(1-31x\\right)\\left(1-15x\\right)\\left(1-7x\\right)\\left(1-3x\\right)\\left(1-x\\right)}$$"
   ]
  },
  {
   "cell_type": "markdown",
   "metadata": {},
   "source": [
    "## Finding a recurrence relation:\n",
    "\n",
    "If $G(x)$ is of the form $\\frac{P(x)}{Q(x)}$ where the degree of the polynomial $Q(x)$ is greater than the degree of the polynomial $P(x)$, and $0$ is not a root of $Q(x)$, then for all $n\\geq k$ it follows that:\n",
    "\n",
    "$$a(n)=-\\frac{1}{q_{0}}\\sum_{l=1}^{k}q_{l}\\times a\\left(n-l\\right)$$\n",
    "\n",
    "Where:\n",
    "\n",
    "$$Q(x)=\\sum_{l=0}^{k}q_{l}x^{l}$$"
   ]
  },
  {
   "cell_type": "markdown",
   "metadata": {},
   "source": [
    "However, due to the offset of this sequence, and the way the generating funtion has been defined, it is not the case that the degree of the polynomial $Q(x)$ is greater than the degree of the polynomial $P(x)$. This could probably be ignored, but that would not be mathematically precise. Rather, define a new generating function:\n",
    "\n",
    "$$H(x)=\\frac{-2\\left(2773914255x^5-4404958866x^4+1920200130x^3-308614840x^2+19532855x-542254\\right)}{\\left(1-63x\\right)\\left(1-31x\\right)\\left(1-15x\\right)\\left(1-7x\\right)\\left(1-3x\\right)\\left(1-x\\right)}$$"
   ]
  },
  {
   "cell_type": "markdown",
   "metadata": {},
   "source": [
    "Whose expansion gives the sequence $b(n)$, which is the same as $a(n)$, but with an offset of $0$ instead of $3$. Notice that $H(x)$ allows the application of the theorem discussed above. Ergo, for all $n\\geq 6$:\n",
    "\n",
    "$$b(n)=120\\times b\\left(n-1\\right)-4593\\times b\\left(n-2\\right)+69688\\times b\\left(n-3\\right)-428787\\times b\\left(n-4\\right)+978768\\times b\\left(n-5\\right)-615195\\times b\\left(n-6\\right)$$"
   ]
  },
  {
   "cell_type": "markdown",
   "metadata": {},
   "source": [
    "Where:\n",
    "\n",
    "$$b(0)=1084508$$"
   ]
  },
  {
   "cell_type": "markdown",
   "metadata": {},
   "source": [
    "$$b(1)=91075250$$"
   ]
  },
  {
   "cell_type": "markdown",
   "metadata": {},
   "source": [
    "$$b(2)=6565114436$$"
   ]
  },
  {
   "cell_type": "markdown",
   "metadata": {},
   "source": [
    "$$b(3)=441241902314$$"
   ]
  },
  {
   "cell_type": "markdown",
   "metadata": {},
   "source": [
    "$$b(4)=28686096681068$$"
   ]
  },
  {
   "cell_type": "markdown",
   "metadata": {},
   "source": [
    "$$b(5)=1835221289891810$$"
   ]
  },
  {
   "cell_type": "markdown",
   "metadata": {},
   "source": [
    "Therefore, quite similarly, for all $n\\geq 10$:\n",
    "\n",
    "$$a(n)=120\\times a\\left(n-1\\right)-4593\\times a\\left(n-2\\right)+69688\\times a\\left(n-3\\right)-428787\\times a\\left(n-4\\right)+978768\\times a\\left(n-5\\right)-615195\\times a\\left(n-6\\right)$$"
   ]
  },
  {
   "cell_type": "markdown",
   "metadata": {},
   "source": [
    "Where:\n",
    "\n",
    "$$a(4)=1084508$$"
   ]
  },
  {
   "cell_type": "markdown",
   "metadata": {},
   "source": [
    "$$a(5)=91075250$$"
   ]
  },
  {
   "cell_type": "markdown",
   "metadata": {},
   "source": [
    "$$a(6)=6565114436$$"
   ]
  },
  {
   "cell_type": "markdown",
   "metadata": {},
   "source": [
    "$$a(7)=441241902314$$"
   ]
  },
  {
   "cell_type": "markdown",
   "metadata": {},
   "source": [
    "$$a(8)=28686096681068$$"
   ]
  },
  {
   "cell_type": "markdown",
   "metadata": {},
   "source": [
    "$$a(9)=1835221289891810$$"
   ]
  },
  {
   "cell_type": "code",
   "execution_count": 1,
   "metadata": {},
   "outputs": [],
   "source": [
    "def f(n):\n",
    "    A = [1084508, 91075250, 6565114436, 441241902314, 28686096681068, 1835221289891810]\n",
    "    if n <= 9:\n",
    "        return(A[:n-2])\n",
    "    else:\n",
    "        for i in range(10, n+1):\n",
    "            A.append(120*A[-1]-4593*A[-2]+69688*A[-3]-428787*A[-4]+978768*A[-5]-615195*A[-6])\n",
    "        return(A)"
   ]
  },
  {
   "cell_type": "code",
   "execution_count": 2,
   "metadata": {},
   "outputs": [
    {
     "name": "stdout",
     "output_type": "stream",
     "text": [
      "True\n"
     ]
    }
   ],
   "source": [
    "# Checking first few terms of A340405\n",
    "print(f(16) == [1084508,91075250,6565114436,441241902314,\n",
    " 28686096681068,1835221289891810,\n",
    " 116494017052053716,7366358270603987354,\n",
    " 464926482693459729788,29316615999089974986770,\n",
    " 1847760848280105290960996,\n",
    " 116434174169077299044440394,\n",
    " 7336135517363636128979098508])"
   ]
  },
  {
   "cell_type": "code",
   "execution_count": null,
   "metadata": {},
   "outputs": [],
   "source": []
  }
 ],
 "metadata": {
  "kernelspec": {
   "display_name": "Python 3",
   "language": "python",
   "name": "python3"
  },
  "language_info": {
   "codemirror_mode": {
    "name": "ipython",
    "version": 3
   },
   "file_extension": ".py",
   "mimetype": "text/x-python",
   "name": "python",
   "nbconvert_exporter": "python",
   "pygments_lexer": "ipython3",
   "version": "3.7.6"
  }
 },
 "nbformat": 4,
 "nbformat_minor": 4
}
