{
 "cells": [
  {
   "cell_type": "markdown",
   "metadata": {},
   "source": [
    "Number of sets in the geometry determined by the Hausdorff metric at each location between two sets defined by a complete bipartite graph $K(5, n)$ (with $n$ at least $3$) missing two edges, where the two removed edges are not incident to the same vertex in the $5$-point set but are incident to the same vertex in the other set."
   ]
  },
  {
   "cell_type": "markdown",
   "metadata": {},
   "source": [
    "## Finding a generating function:\n",
    "\n",
    "Define:\n",
    "\n",
    "$$G(x)=\\sum_{n=3}^{\\infty}a(n)x^{n}$$"
   ]
  },
  {
   "cell_type": "markdown",
   "metadata": {},
   "source": [
    "For all $n\\geq3$, since:\n",
    "\n",
    "$$a(n)=7\\times31^{n-1}-23\\times15^{n-1}+4\\times7^n-5\\times3^{n}+3$$"
   ]
  },
  {
   "cell_type": "markdown",
   "metadata": {},
   "source": [
    "It follows that:\n",
    "\n",
    "$$G(x)=\\sum_{n=3}^{\\infty}\\left(7\\times31^{n-1}-23\\times15^{n-1}+4\\times7^n-5\\times3^{n}+3\\right)x^{n}$$"
   ]
  },
  {
   "cell_type": "markdown",
   "metadata": {},
   "source": [
    "Or, equivalently:\n",
    "\n",
    "$$G(x)=\\frac{7}{31}\\sum_{n=3}^{\\infty}31^{n}x^{n}-\\frac{23}{15}\\sum_{n=3}^{\\infty}15^{n}x^{n}+4\\sum_{n=3}^{\\infty}7^nx^{n}-5\\sum_{n=3}^{\\infty}3^{n}x^{n}+3\\sum_{n=3}^{\\infty}x^{n}$$"
   ]
  },
  {
   "cell_type": "markdown",
   "metadata": {},
   "source": [
    "Ergo:\n",
    "\n",
    "$$\\scriptsize G(x)=\\frac{7}{31}\\left(\\frac{1}{1-31x}-961x^{2}-31x-1\\right)-\\frac{23}{15}\\left(\\frac{1}{1-15x}-225x^{2}-15x-1\\right)+4\\left(\\frac{1}{1-7x}-49x^{2}-7x-1\\right)-5\\left(\\frac{1}{1-3x}-9x^{2}-3x-1\\right)+3\\left(\\frac{1}{1-x}-x^{2}-x-1\\right)$$"
   ]
  },
  {
   "cell_type": "markdown",
   "metadata": {},
   "source": [
    "Or, equivalently:\n",
    "\n",
    "$$G(x)=\\frac{7}{31-961x}-\\frac{23}{15-225x}+\\frac{4}{1-7x}-\\frac{5}{1-3x}+\\frac{3}{1-x}-26x^{2}-\\frac{322}{465}$$"
   ]
  },
  {
   "cell_type": "markdown",
   "metadata": {},
   "source": [
    "Therefore:\n",
    "\n",
    "$$G(x)=\\frac{2x^3\\left(126945x^4-199953x^3+88687x^2-9515x+1396\\right)}{\\left(1-31x\\right)\\left(1-15x\\right)\\left(1-7x\\right)\\left(1-3x\\right)\\left(1-x\\right)}$$"
   ]
  },
  {
   "cell_type": "markdown",
   "metadata": {},
   "source": [
    "## Finding a recurrence relation:\n",
    "\n",
    "If $G(x)$ is of the form $\\frac{P(x)}{Q(x)}$ where the degree of the polynomial $Q(x)$ is greater than the degree of the polynomial $P(x)$, and $0$ is not a root of $Q(x)$, then for all $n\\geq k$ it follows that:\n",
    "\n",
    "$$a(n)=-\\frac{1}{q_{0}}\\sum_{l=1}^{k}q_{l}\\times a\\left(n-l\\right)$$\n",
    "\n",
    "Where:\n",
    "\n",
    "$$Q(x)=\\sum_{l=0}^{k}q_{l}x^{l}$$"
   ]
  },
  {
   "cell_type": "markdown",
   "metadata": {},
   "source": [
    "However, due to the offset of this sequence, and the way the generating funtion has been defined, it is not the case that the degree of the polynomial $Q(x)$ is greater than the degree of the polynomial $P(x)$. This could probably be ignored, but that would not be mathematically precise. Rather, define a new generating function:\n",
    "\n",
    "$$H(x)=\\frac{2\\left(126945x^4-199953x^3+88687x^2-9515x+1396\\right)}{\\left(1-31x\\right)\\left(1-15x\\right)\\left(1-7x\\right)\\left(1-3x\\right)\\left(1-x\\right)}$$"
   ]
  },
  {
   "cell_type": "markdown",
   "metadata": {},
   "source": [
    "Whose expansion gives the sequence $b(n)$, which is the same as $a(n)$, but with an offset of $0$ instead of $3$. Notice that $H(x)$ allows the application of the theorem discussed above. Ergo, for all $n\\geq 5$:\n",
    "\n",
    "$$b(n)=57\\times b\\left(n-1\\right)-1002\\times b\\left(n-2\\right)+6562\\times b\\left(n-3\\right)-15381\\times b\\left(n-4\\right)+9765\\times b\\left(n-5\\right)$$"
   ]
  },
  {
   "cell_type": "markdown",
   "metadata": {},
   "source": [
    "Where:\n",
    "\n",
    "$$b(0)=2792$$"
   ]
  },
  {
   "cell_type": "markdown",
   "metadata": {},
   "source": [
    "$$b(1)=140114$$"
   ]
  },
  {
   "cell_type": "markdown",
   "metadata": {},
   "source": [
    "$$b(2)=5366288$$"
   ]
  },
  {
   "cell_type": "markdown",
   "metadata": {},
   "source": [
    "$$b(3)=183405386$$"
   ]
  },
  {
   "cell_type": "markdown",
   "metadata": {},
   "source": [
    "$$b(4)=5953824632$$"
   ]
  },
  {
   "cell_type": "markdown",
   "metadata": {},
   "source": [
    "Therefore, quite similarly, for all $n\\geq 8$:\n",
    "\n",
    "$$a(n)=57\\times a\\left(n-1\\right)-1002\\times a\\left(n-2\\right)+6562\\times a\\left(n-3\\right)-15381\\times a\\left(n-4\\right)+9765\\times a\\left(n-5\\right)$$"
   ]
  },
  {
   "cell_type": "markdown",
   "metadata": {},
   "source": [
    "Where:\n",
    "\n",
    "$$a(3)=2792$$"
   ]
  },
  {
   "cell_type": "markdown",
   "metadata": {},
   "source": [
    "$$a(4)=140114$$"
   ]
  },
  {
   "cell_type": "markdown",
   "metadata": {},
   "source": [
    "$$a(5)=5366288$$"
   ]
  },
  {
   "cell_type": "markdown",
   "metadata": {},
   "source": [
    "$$a(6)=183405386$$"
   ]
  },
  {
   "cell_type": "markdown",
   "metadata": {},
   "source": [
    "$$a(7)=5953824632$$"
   ]
  },
  {
   "cell_type": "code",
   "execution_count": 1,
   "metadata": {},
   "outputs": [],
   "source": [
    "def f(n):\n",
    "    A = [2792,140114,5366288,183405386,5953824632]\n",
    "    if n <= 7:\n",
    "        return(A[:n-2])\n",
    "    else:\n",
    "        for i in range(8, n+1):\n",
    "            A.append(57*A[-1]-1002*A[-2]+6562*A[-3]-15381*A[-4]+9765*A[-5])\n",
    "        return(A)"
   ]
  },
  {
   "cell_type": "code",
   "execution_count": 2,
   "metadata": {},
   "outputs": [],
   "source": [
    "# Checking first few terms of A340174\n",
    "print(f(17) == [2792,140114,5366288,183405386,5953824632,\n",
    " 188681559554,5911452093728,184194287464826,\n",
    " 5724142958302472,177660449252559794,\n",
    " 5510655708296433968,170878064308411409066,\n",
    " 5297936128237164553112,164246762516365548788834,\n",
    " 5091810779768636860563008])"
   ]
  },
  {
   "cell_type": "code",
   "execution_count": null,
   "metadata": {},
   "outputs": [],
   "source": []
  }
 ],
 "metadata": {
  "kernelspec": {
   "display_name": "Python 3",
   "language": "python",
   "name": "python3"
  },
  "language_info": {
   "codemirror_mode": {
    "name": "ipython",
    "version": 3
   },
   "file_extension": ".py",
   "mimetype": "text/x-python",
   "name": "python",
   "nbconvert_exporter": "python",
   "pygments_lexer": "ipython3",
   "version": "3.7.6"
  }
 },
 "nbformat": 4,
 "nbformat_minor": 4
}
